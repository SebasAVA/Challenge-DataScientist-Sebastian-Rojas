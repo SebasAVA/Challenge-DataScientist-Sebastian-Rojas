{
 "cells": [
  {
   "cell_type": "markdown",
   "id": "4f75330b",
   "metadata": {},
   "source": [
    "## Import libraries and packages"
   ]
  },
  {
   "cell_type": "markdown",
   "id": "fa2652b2",
   "metadata": {},
   "source": [
    "Following good practice, it is highly recommended to create a new environment for the development of this  project."
   ]
  },
  {
   "cell_type": "code",
   "execution_count": 1,
   "id": "8eaedb79",
   "metadata": {},
   "outputs": [],
   "source": [
    "import pandas as pd\n",
    "import numpy as np\n",
    "import seaborn as sns\n",
    "import datetime\n",
    "import matplotlib as mpl\n",
    "import matplotlib.pyplot as plt\n",
    "from sklearn import linear_model\n",
    "import scipy.stats as stats\n",
    "import inspect\n",
    "from statsmodels.distributions.empirical_distribution import ECDF\n",
    "from sklearn.metrics import mean_squared_error\n",
    "from sklearn import linear_model\n",
    "from sklearn.model_selection import train_test_split\n",
    "from sklearn.model_selection import cross_val_score\n",
    "from sklearn import tree\n",
    "import pickle"
   ]
  },
  {
   "cell_type": "code",
   "execution_count": 2,
   "id": "bdb60bdc",
   "metadata": {},
   "outputs": [],
   "source": [
    "from sklearn import datasets, linear_model"
   ]
  },
  {
   "cell_type": "markdown",
   "id": "ae914fe7",
   "metadata": {},
   "source": [
    "## Reading CSV  with pandas"
   ]
  },
  {
   "cell_type": "code",
   "execution_count": 3,
   "id": "caa0b5eb",
   "metadata": {},
   "outputs": [
    {
     "name": "stderr",
     "output_type": "stream",
     "text": [
      "C:\\Users\\sebas\\AppData\\Local\\Temp\\ipykernel_14548\\2756499070.py:1: DtypeWarning: Columns (1,6) have mixed types. Specify dtype option on import or set low_memory=False.\n",
      "  scl_flt = pd.read_csv(\"dataset_SCL.csv\")\n"
     ]
    }
   ],
   "source": [
    "scl_flt = pd.read_csv(\"dataset_SCL.csv\")"
   ]
  },
  {
   "cell_type": "code",
   "execution_count": 4,
   "id": "aeedc818",
   "metadata": {
    "scrolled": true
   },
   "outputs": [
    {
     "data": {
      "text/html": [
       "<div>\n",
       "<style scoped>\n",
       "    .dataframe tbody tr th:only-of-type {\n",
       "        vertical-align: middle;\n",
       "    }\n",
       "\n",
       "    .dataframe tbody tr th {\n",
       "        vertical-align: top;\n",
       "    }\n",
       "\n",
       "    .dataframe thead th {\n",
       "        text-align: right;\n",
       "    }\n",
       "</style>\n",
       "<table border=\"1\" class=\"dataframe\">\n",
       "  <thead>\n",
       "    <tr style=\"text-align: right;\">\n",
       "      <th></th>\n",
       "      <th>Fecha-I</th>\n",
       "      <th>Vlo-I</th>\n",
       "      <th>Ori-I</th>\n",
       "      <th>Des-I</th>\n",
       "      <th>Emp-I</th>\n",
       "      <th>Fecha-O</th>\n",
       "      <th>Vlo-O</th>\n",
       "      <th>Ori-O</th>\n",
       "      <th>Des-O</th>\n",
       "      <th>Emp-O</th>\n",
       "      <th>DIA</th>\n",
       "      <th>MES</th>\n",
       "      <th>AÑO</th>\n",
       "      <th>DIANOM</th>\n",
       "      <th>TIPOVUELO</th>\n",
       "      <th>OPERA</th>\n",
       "      <th>SIGLAORI</th>\n",
       "      <th>SIGLADES</th>\n",
       "    </tr>\n",
       "  </thead>\n",
       "  <tbody>\n",
       "    <tr>\n",
       "      <th>0</th>\n",
       "      <td>2017-01-01 23:30:00</td>\n",
       "      <td>226</td>\n",
       "      <td>SCEL</td>\n",
       "      <td>KMIA</td>\n",
       "      <td>AAL</td>\n",
       "      <td>2017-01-01 23:33:00</td>\n",
       "      <td>226</td>\n",
       "      <td>SCEL</td>\n",
       "      <td>KMIA</td>\n",
       "      <td>AAL</td>\n",
       "      <td>1</td>\n",
       "      <td>1</td>\n",
       "      <td>2017</td>\n",
       "      <td>Domingo</td>\n",
       "      <td>I</td>\n",
       "      <td>American Airlines</td>\n",
       "      <td>Santiago</td>\n",
       "      <td>Miami</td>\n",
       "    </tr>\n",
       "    <tr>\n",
       "      <th>1</th>\n",
       "      <td>2017-01-02 23:30:00</td>\n",
       "      <td>226</td>\n",
       "      <td>SCEL</td>\n",
       "      <td>KMIA</td>\n",
       "      <td>AAL</td>\n",
       "      <td>2017-01-02 23:39:00</td>\n",
       "      <td>226</td>\n",
       "      <td>SCEL</td>\n",
       "      <td>KMIA</td>\n",
       "      <td>AAL</td>\n",
       "      <td>2</td>\n",
       "      <td>1</td>\n",
       "      <td>2017</td>\n",
       "      <td>Lunes</td>\n",
       "      <td>I</td>\n",
       "      <td>American Airlines</td>\n",
       "      <td>Santiago</td>\n",
       "      <td>Miami</td>\n",
       "    </tr>\n",
       "    <tr>\n",
       "      <th>2</th>\n",
       "      <td>2017-01-03 23:30:00</td>\n",
       "      <td>226</td>\n",
       "      <td>SCEL</td>\n",
       "      <td>KMIA</td>\n",
       "      <td>AAL</td>\n",
       "      <td>2017-01-03 23:39:00</td>\n",
       "      <td>226</td>\n",
       "      <td>SCEL</td>\n",
       "      <td>KMIA</td>\n",
       "      <td>AAL</td>\n",
       "      <td>3</td>\n",
       "      <td>1</td>\n",
       "      <td>2017</td>\n",
       "      <td>Martes</td>\n",
       "      <td>I</td>\n",
       "      <td>American Airlines</td>\n",
       "      <td>Santiago</td>\n",
       "      <td>Miami</td>\n",
       "    </tr>\n",
       "    <tr>\n",
       "      <th>3</th>\n",
       "      <td>2017-01-04 23:30:00</td>\n",
       "      <td>226</td>\n",
       "      <td>SCEL</td>\n",
       "      <td>KMIA</td>\n",
       "      <td>AAL</td>\n",
       "      <td>2017-01-04 23:33:00</td>\n",
       "      <td>226</td>\n",
       "      <td>SCEL</td>\n",
       "      <td>KMIA</td>\n",
       "      <td>AAL</td>\n",
       "      <td>4</td>\n",
       "      <td>1</td>\n",
       "      <td>2017</td>\n",
       "      <td>Miercoles</td>\n",
       "      <td>I</td>\n",
       "      <td>American Airlines</td>\n",
       "      <td>Santiago</td>\n",
       "      <td>Miami</td>\n",
       "    </tr>\n",
       "    <tr>\n",
       "      <th>4</th>\n",
       "      <td>2017-01-05 23:30:00</td>\n",
       "      <td>226</td>\n",
       "      <td>SCEL</td>\n",
       "      <td>KMIA</td>\n",
       "      <td>AAL</td>\n",
       "      <td>2017-01-05 23:28:00</td>\n",
       "      <td>226</td>\n",
       "      <td>SCEL</td>\n",
       "      <td>KMIA</td>\n",
       "      <td>AAL</td>\n",
       "      <td>5</td>\n",
       "      <td>1</td>\n",
       "      <td>2017</td>\n",
       "      <td>Jueves</td>\n",
       "      <td>I</td>\n",
       "      <td>American Airlines</td>\n",
       "      <td>Santiago</td>\n",
       "      <td>Miami</td>\n",
       "    </tr>\n",
       "  </tbody>\n",
       "</table>\n",
       "</div>"
      ],
      "text/plain": [
       "               Fecha-I Vlo-I Ori-I Des-I Emp-I              Fecha-O Vlo-O  \\\n",
       "0  2017-01-01 23:30:00   226  SCEL  KMIA   AAL  2017-01-01 23:33:00   226   \n",
       "1  2017-01-02 23:30:00   226  SCEL  KMIA   AAL  2017-01-02 23:39:00   226   \n",
       "2  2017-01-03 23:30:00   226  SCEL  KMIA   AAL  2017-01-03 23:39:00   226   \n",
       "3  2017-01-04 23:30:00   226  SCEL  KMIA   AAL  2017-01-04 23:33:00   226   \n",
       "4  2017-01-05 23:30:00   226  SCEL  KMIA   AAL  2017-01-05 23:28:00   226   \n",
       "\n",
       "  Ori-O Des-O Emp-O  DIA  MES   AÑO     DIANOM TIPOVUELO              OPERA  \\\n",
       "0  SCEL  KMIA   AAL    1    1  2017    Domingo         I  American Airlines   \n",
       "1  SCEL  KMIA   AAL    2    1  2017      Lunes         I  American Airlines   \n",
       "2  SCEL  KMIA   AAL    3    1  2017     Martes         I  American Airlines   \n",
       "3  SCEL  KMIA   AAL    4    1  2017  Miercoles         I  American Airlines   \n",
       "4  SCEL  KMIA   AAL    5    1  2017     Jueves         I  American Airlines   \n",
       "\n",
       "   SIGLAORI SIGLADES  \n",
       "0  Santiago    Miami  \n",
       "1  Santiago    Miami  \n",
       "2  Santiago    Miami  \n",
       "3  Santiago    Miami  \n",
       "4  Santiago    Miami  "
      ]
     },
     "execution_count": 4,
     "metadata": {},
     "output_type": "execute_result"
    }
   ],
   "source": [
    "scl_flt.head()"
   ]
  },
  {
   "cell_type": "markdown",
   "id": "3c176e90",
   "metadata": {},
   "source": [
    "# Analysis of categorical variables"
   ]
  },
  {
   "cell_type": "code",
   "execution_count": 5,
   "id": "3304fdd0",
   "metadata": {
    "scrolled": false
   },
   "outputs": [
    {
     "data": {
      "text/html": [
       "<div>\n",
       "<style scoped>\n",
       "    .dataframe tbody tr th:only-of-type {\n",
       "        vertical-align: middle;\n",
       "    }\n",
       "\n",
       "    .dataframe tbody tr th {\n",
       "        vertical-align: top;\n",
       "    }\n",
       "\n",
       "    .dataframe thead th {\n",
       "        text-align: right;\n",
       "    }\n",
       "</style>\n",
       "<table border=\"1\" class=\"dataframe\">\n",
       "  <thead>\n",
       "    <tr style=\"text-align: right;\">\n",
       "      <th></th>\n",
       "      <th>Vlo-I</th>\n",
       "      <th>Vlo-O</th>\n",
       "      <th>Ori-I</th>\n",
       "      <th>Ori-O</th>\n",
       "      <th>Des-I</th>\n",
       "      <th>Des-O</th>\n",
       "      <th>SIGLAORI</th>\n",
       "      <th>SIGLADES</th>\n",
       "      <th>Emp-I</th>\n",
       "      <th>Emp-O</th>\n",
       "      <th>OPERA</th>\n",
       "      <th>TIPOVUELO</th>\n",
       "      <th>DIANOM</th>\n",
       "    </tr>\n",
       "  </thead>\n",
       "  <tbody>\n",
       "    <tr>\n",
       "      <th>count</th>\n",
       "      <td>68206</td>\n",
       "      <td>68205</td>\n",
       "      <td>68206</td>\n",
       "      <td>68206</td>\n",
       "      <td>68206</td>\n",
       "      <td>68206</td>\n",
       "      <td>68206</td>\n",
       "      <td>68206</td>\n",
       "      <td>68206</td>\n",
       "      <td>68206</td>\n",
       "      <td>68206</td>\n",
       "      <td>68206</td>\n",
       "      <td>68206</td>\n",
       "    </tr>\n",
       "    <tr>\n",
       "      <th>unique</th>\n",
       "      <td>750</td>\n",
       "      <td>866</td>\n",
       "      <td>1</td>\n",
       "      <td>1</td>\n",
       "      <td>64</td>\n",
       "      <td>63</td>\n",
       "      <td>1</td>\n",
       "      <td>62</td>\n",
       "      <td>30</td>\n",
       "      <td>32</td>\n",
       "      <td>23</td>\n",
       "      <td>2</td>\n",
       "      <td>7</td>\n",
       "    </tr>\n",
       "    <tr>\n",
       "      <th>top</th>\n",
       "      <td>174</td>\n",
       "      <td>174</td>\n",
       "      <td>SCEL</td>\n",
       "      <td>SCEL</td>\n",
       "      <td>SCFA</td>\n",
       "      <td>SCFA</td>\n",
       "      <td>Santiago</td>\n",
       "      <td>Buenos Aires</td>\n",
       "      <td>LAN</td>\n",
       "      <td>LAN</td>\n",
       "      <td>Grupo LATAM</td>\n",
       "      <td>N</td>\n",
       "      <td>Viernes</td>\n",
       "    </tr>\n",
       "    <tr>\n",
       "      <th>freq</th>\n",
       "      <td>686</td>\n",
       "      <td>649</td>\n",
       "      <td>68206</td>\n",
       "      <td>68206</td>\n",
       "      <td>5787</td>\n",
       "      <td>5786</td>\n",
       "      <td>68206</td>\n",
       "      <td>6335</td>\n",
       "      <td>37611</td>\n",
       "      <td>20988</td>\n",
       "      <td>40892</td>\n",
       "      <td>36966</td>\n",
       "      <td>10292</td>\n",
       "    </tr>\n",
       "  </tbody>\n",
       "</table>\n",
       "</div>"
      ],
      "text/plain": [
       "        Vlo-I  Vlo-O  Ori-I  Ori-O  Des-I  Des-O  SIGLAORI      SIGLADES  \\\n",
       "count   68206  68205  68206  68206  68206  68206     68206         68206   \n",
       "unique    750    866      1      1     64     63         1            62   \n",
       "top       174    174   SCEL   SCEL   SCFA   SCFA  Santiago  Buenos Aires   \n",
       "freq      686    649  68206  68206   5787   5786     68206          6335   \n",
       "\n",
       "        Emp-I  Emp-O        OPERA TIPOVUELO   DIANOM  \n",
       "count   68206  68206        68206     68206    68206  \n",
       "unique     30     32           23         2        7  \n",
       "top       LAN    LAN  Grupo LATAM         N  Viernes  \n",
       "freq    37611  20988        40892     36966    10292  "
      ]
     },
     "execution_count": 5,
     "metadata": {},
     "output_type": "execute_result"
    }
   ],
   "source": [
    "scl_flt[[\"Vlo-I\",\"Vlo-O\",\"Ori-I\",\"Ori-O\",\"Des-I\",\"Des-O\",\"SIGLAORI\",\"SIGLADES\",\"Emp-I\",\"Emp-O\",\"OPERA\",\"TIPOVUELO\",\"DIANOM\"]].describe()"
   ]
  },
  {
   "cell_type": "code",
   "execution_count": 6,
   "id": "4e5fd6de",
   "metadata": {
    "scrolled": true
   },
   "outputs": [
    {
     "name": "stdout",
     "output_type": "stream",
     "text": [
      "FECHA-I\n",
      "2017-12-31 23:55:00\n",
      "2017-01-01 00:15:00\n",
      "FECHA-O\n",
      "2018-01-01 00:12:00\n",
      "2017-01-01 00:04:00\n"
     ]
    }
   ],
   "source": [
    "print(\"FECHA-I\")\n",
    "print(scl_flt[\"Fecha-I\"].max())\n",
    "print(scl_flt[\"Fecha-I\"].min())\n",
    "print(\"FECHA-O\")\n",
    "print(scl_flt[\"Fecha-O\"].max())\n",
    "print(scl_flt[\"Fecha-O\"].min())"
   ]
  },
  {
   "cell_type": "markdown",
   "id": "00860d66",
   "metadata": {},
   "source": [
    "As we can see, variables such as the number of flight ```Vlo-I``` ,```Vlo-O```, have different values in the description. The flight number has more unique values on the actual operated flights and the top value is the flight **174** on both variables.\n",
    "\n",
    "Something similar is happening with the variables related with the destination ```Des-I``` ,```Des-O```, in which the number of unique values of the operated destination is less than the schedule values, in this case the most frequent destination is **SCFA** that correspond to the airport of Antofagasta in Chile (ICAO airport code), base on this we want to check the type of flight with the variable ```TIPOVUELO``` and we can check that the 54% of the flight are national flights.\n",
    "\n",
    "Another interesting and disruptive thing that we can notice is that the variable ```SIGLADES``` that is the name of the city of destination does not correspond with the ICAO code airport of the variable ```Des-O``` or ```Des-I```, and as I said before the most common destination is Antofagasta, but in this case Buenos Aires in Argentina is the most frequent city of destination, so we need to check why this is happening with this variable.\n",
    "\n",
    "\n",
    "With the code of the airline ```Emp-I``` ```Emp-O``` and the name ```OPERA``` we can notice that there are less names of airlines that codes, this because the airline can operate with different codes, and we can check in the next cells. Grupo LATAM with the callsign of LAN have the most frequent operation in SCEL.\n",
    "\n",
    "Finally the data is composed of 68206 records. with dates from january of 2017 to december of 2017 and as is expected the column of the operated have the max data the first of January\n"
   ]
  },
  {
   "cell_type": "markdown",
   "id": "9c4e89aa",
   "metadata": {},
   "source": [
    "## Cleaning and anlysis"
   ]
  },
  {
   "cell_type": "markdown",
   "id": "74743f11",
   "metadata": {},
   "source": [
    "### Flight Number"
   ]
  },
  {
   "cell_type": "markdown",
   "id": "d7340156",
   "metadata": {},
   "source": [
    "First we need to check if there is any NA value on the dataframe in order to replace it or drop the row. But we only see just one NA in the ```VLO-O```."
   ]
  },
  {
   "cell_type": "code",
   "execution_count": 7,
   "id": "6792f032",
   "metadata": {},
   "outputs": [
    {
     "data": {
      "text/plain": [
       "Fecha-I      0\n",
       "Vlo-I        0\n",
       "Ori-I        0\n",
       "Des-I        0\n",
       "Emp-I        0\n",
       "Fecha-O      0\n",
       "Vlo-O        1\n",
       "Ori-O        0\n",
       "Des-O        0\n",
       "Emp-O        0\n",
       "DIA          0\n",
       "MES          0\n",
       "AÑO          0\n",
       "DIANOM       0\n",
       "TIPOVUELO    0\n",
       "OPERA        0\n",
       "SIGLAORI     0\n",
       "SIGLADES     0\n",
       "dtype: int64"
      ]
     },
     "execution_count": 7,
     "metadata": {},
     "output_type": "execute_result"
    }
   ],
   "source": [
    "scl_flt.isna().sum()"
   ]
  },
  {
   "cell_type": "markdown",
   "id": "60c7c154",
   "metadata": {},
   "source": [
    "We need to transform the column of ```VLO-O``` and delete a \".0\" in order to clean the column and check why there is a big difference between these two variables.\n",
    "After delete the sufix, we still have some differences, and we can change the type of the two variables for a string and save it as two new variables ```VLO-Ini``` ```VLO-Ope```"
   ]
  },
  {
   "cell_type": "code",
   "execution_count": 8,
   "id": "2b2aa4c8",
   "metadata": {},
   "outputs": [
    {
     "data": {
      "text/plain": [
       "Vlo-I  Vlo-O\n",
       "170    170.0    43\n",
       "168    168.0    43\n",
       "164    164.0    42\n",
       "162    162.0    41\n",
       "150    150.0    40\n",
       "174    174.0    37\n",
       "156    156.0    36\n",
       "172    172.0    32\n",
       "166    166.0    32\n",
       "231    231.0    31\n",
       "dtype: int64"
      ]
     },
     "execution_count": 8,
     "metadata": {},
     "output_type": "execute_result"
    }
   ],
   "source": [
    "scl_flt[scl_flt.apply(lambda x: x['Vlo-I'] != x['Vlo-O'], axis = 1)][[\"Vlo-I\",\"Vlo-O\"]].value_counts().head(10)"
   ]
  },
  {
   "cell_type": "code",
   "execution_count": 9,
   "id": "2820dbda",
   "metadata": {},
   "outputs": [],
   "source": [
    "scl_flt[\"Vlo-Ope\"]=scl_flt.apply(lambda x: str(x['Vlo-O']).replace(\".0\",\"\"), axis = 1)"
   ]
  },
  {
   "cell_type": "code",
   "execution_count": 10,
   "id": "5b3aaa4a",
   "metadata": {},
   "outputs": [
    {
     "data": {
      "text/html": [
       "<div>\n",
       "<style scoped>\n",
       "    .dataframe tbody tr th:only-of-type {\n",
       "        vertical-align: middle;\n",
       "    }\n",
       "\n",
       "    .dataframe tbody tr th {\n",
       "        vertical-align: top;\n",
       "    }\n",
       "\n",
       "    .dataframe thead th {\n",
       "        text-align: right;\n",
       "    }\n",
       "</style>\n",
       "<table border=\"1\" class=\"dataframe\">\n",
       "  <thead>\n",
       "    <tr style=\"text-align: right;\">\n",
       "      <th></th>\n",
       "      <th>Vlo-I</th>\n",
       "      <th>Vlo-Ope</th>\n",
       "    </tr>\n",
       "  </thead>\n",
       "  <tbody>\n",
       "    <tr>\n",
       "      <th>count</th>\n",
       "      <td>2789</td>\n",
       "      <td>2789</td>\n",
       "    </tr>\n",
       "    <tr>\n",
       "      <th>unique</th>\n",
       "      <td>237</td>\n",
       "      <td>240</td>\n",
       "    </tr>\n",
       "    <tr>\n",
       "      <th>top</th>\n",
       "      <td>281</td>\n",
       "      <td>281</td>\n",
       "    </tr>\n",
       "    <tr>\n",
       "      <th>freq</th>\n",
       "      <td>54</td>\n",
       "      <td>54</td>\n",
       "    </tr>\n",
       "  </tbody>\n",
       "</table>\n",
       "</div>"
      ],
      "text/plain": [
       "        Vlo-I Vlo-Ope\n",
       "count    2789    2789\n",
       "unique    237     240\n",
       "top       281     281\n",
       "freq       54      54"
      ]
     },
     "execution_count": 10,
     "metadata": {},
     "output_type": "execute_result"
    }
   ],
   "source": [
    "scl_flt[scl_flt.apply(lambda x: x['Vlo-I'] != x['Vlo-Ope'], axis = 1)][[\"Vlo-I\",\"Vlo-Ope\"]].describe()"
   ]
  },
  {
   "cell_type": "code",
   "execution_count": 11,
   "id": "8c4a5689",
   "metadata": {},
   "outputs": [],
   "source": [
    "scl_flt[\"Vlo-Ini\"]=scl_flt[\"Vlo-I\"].astype(str)"
   ]
  },
  {
   "cell_type": "code",
   "execution_count": 12,
   "id": "815392f1",
   "metadata": {},
   "outputs": [
    {
     "data": {
      "text/plain": [
       "Vlo-I  Vlo-Ini\n",
       "281    281        54\n",
       "50     50         50\n",
       "704    704        41\n",
       "572    572        31\n",
       "340    340        31\n",
       "dtype: int64"
      ]
     },
     "execution_count": 12,
     "metadata": {},
     "output_type": "execute_result"
    }
   ],
   "source": [
    "scl_flt[scl_flt.apply(lambda x: x['Vlo-I'] != x['Vlo-Ini'], axis = 1)][[\"Vlo-I\",\"Vlo-Ini\"]].value_counts().head(5)"
   ]
  },
  {
   "cell_type": "markdown",
   "id": "afd7a1d5",
   "metadata": {},
   "source": [
    "Evidently in the next table, after the cleaning and the change of the type columns ```VLO-Ini``` ```VLO-Ope``` have now a similiar unique units. \n",
    "\n",
    "But at the end the differences are because they complete change the Number flight."
   ]
  },
  {
   "cell_type": "code",
   "execution_count": 13,
   "id": "3f1cd4a5",
   "metadata": {},
   "outputs": [
    {
     "data": {
      "text/html": [
       "<div>\n",
       "<style scoped>\n",
       "    .dataframe tbody tr th:only-of-type {\n",
       "        vertical-align: middle;\n",
       "    }\n",
       "\n",
       "    .dataframe tbody tr th {\n",
       "        vertical-align: top;\n",
       "    }\n",
       "\n",
       "    .dataframe thead th {\n",
       "        text-align: right;\n",
       "    }\n",
       "</style>\n",
       "<table border=\"1\" class=\"dataframe\">\n",
       "  <thead>\n",
       "    <tr style=\"text-align: right;\">\n",
       "      <th></th>\n",
       "      <th>Vlo-I</th>\n",
       "      <th>Vlo-Ini</th>\n",
       "      <th>Vlo-O</th>\n",
       "      <th>Vlo-Ope</th>\n",
       "    </tr>\n",
       "  </thead>\n",
       "  <tbody>\n",
       "    <tr>\n",
       "      <th>count</th>\n",
       "      <td>68206</td>\n",
       "      <td>68206</td>\n",
       "      <td>68205</td>\n",
       "      <td>68206</td>\n",
       "    </tr>\n",
       "    <tr>\n",
       "      <th>unique</th>\n",
       "      <td>750</td>\n",
       "      <td>584</td>\n",
       "      <td>866</td>\n",
       "      <td>609</td>\n",
       "    </tr>\n",
       "    <tr>\n",
       "      <th>top</th>\n",
       "      <td>174</td>\n",
       "      <td>174</td>\n",
       "      <td>174</td>\n",
       "      <td>174</td>\n",
       "    </tr>\n",
       "    <tr>\n",
       "      <th>freq</th>\n",
       "      <td>686</td>\n",
       "      <td>686</td>\n",
       "      <td>649</td>\n",
       "      <td>686</td>\n",
       "    </tr>\n",
       "  </tbody>\n",
       "</table>\n",
       "</div>"
      ],
      "text/plain": [
       "        Vlo-I Vlo-Ini  Vlo-O Vlo-Ope\n",
       "count   68206   68206  68205   68206\n",
       "unique    750     584    866     609\n",
       "top       174     174    174     174\n",
       "freq      686     686    649     686"
      ]
     },
     "execution_count": 13,
     "metadata": {},
     "output_type": "execute_result"
    }
   ],
   "source": [
    "scl_flt[[\"Vlo-I\",\"Vlo-Ini\",\"Vlo-O\",\"Vlo-Ope\"]].describe()"
   ]
  },
  {
   "cell_type": "code",
   "execution_count": 14,
   "id": "eecb9e47",
   "metadata": {},
   "outputs": [
    {
     "data": {
      "text/plain": [
       "Des-I  Des-O  Vlo-Ini  Vlo-Ope\n",
       "SAEZ   SAEZ   4501     1001       19\n",
       "              4503     1003       11\n",
       "                       1303        5\n",
       "SPJC   SPJC   702      700         3\n",
       "SAEZ   SAEZ   7811     1101        3\n",
       "                                  ..\n",
       "              7813     1071        1\n",
       "KATL   KATL   146      9858        1\n",
       "SCAT   SCAT   114      114R        1\n",
       "SCDA   SCDA   110      33          1\n",
       "SUMU   SUMU   989P     989         1\n",
       "Length: 73, dtype: int64"
      ]
     },
     "execution_count": 14,
     "metadata": {},
     "output_type": "execute_result"
    }
   ],
   "source": [
    "scl_flt[scl_flt.apply(lambda x: x['Vlo-Ini'] != x['Vlo-Ope'], axis = 1)][[\"Des-I\",\"Des-O\",\"Vlo-Ini\",\"Vlo-Ope\"]].value_counts()"
   ]
  },
  {
   "cell_type": "markdown",
   "id": "a61f4b56",
   "metadata": {},
   "source": [
    "### Destination"
   ]
  },
  {
   "cell_type": "markdown",
   "id": "a305329b",
   "metadata": {},
   "source": [
    "The flights can change the destination due to multiple reasons such as the weather or the conditions on the destination airport, and they use the alternate airport, that basically is an airport that is close to the original. \n",
    "\n",
    "In some cases the alternate airport is in another country because the destination airport is close to the borders,  we can check the country in the majority of the cases with the two first characters of the ICAO code, and following this logic 4 of the flights change countries. Actually only 2 arrive in Argentina and Brazil, when initially where schedule to go to Ecuador and Argentina correspondly. The other two cases correspond to Australia and USA where ICAO code does not correspond with the first logic that I established.\n"
   ]
  },
  {
   "cell_type": "code",
   "execution_count": 15,
   "id": "14e51aed",
   "metadata": {
    "scrolled": true
   },
   "outputs": [
    {
     "data": {
      "text/plain": [
       "Des-I  Des-O\n",
       "SCTE   SCQP     5\n",
       "SABE   SAEZ     4\n",
       "SCBA   SCTE     4\n",
       "SAEZ   SABE     3\n",
       "KIAH   KIAD     1\n",
       "KJFK   KMIA     1\n",
       "SARI   SBFI     1\n",
       "SBGR   SBGL     1\n",
       "SCCI   SCTE     1\n",
       "SCFA   SCCF     1\n",
       "SCIE   SCQP     1\n",
       "       SCTE     1\n",
       "SCTE   SCCI     1\n",
       "SEGU   SABE     1\n",
       "SEQU   SEQM     1\n",
       "YSSY   YMML     1\n",
       "dtype: int64"
      ]
     },
     "execution_count": 15,
     "metadata": {},
     "output_type": "execute_result"
    }
   ],
   "source": [
    "scl_flt[scl_flt.apply(lambda x: x['Des-I'] != x['Des-O'], axis = 1)][[\"Des-I\",\"Des-O\"]].value_counts()"
   ]
  },
  {
   "cell_type": "code",
   "execution_count": 16,
   "id": "0eaa4ae4",
   "metadata": {},
   "outputs": [],
   "source": [
    "diffDest = scl_flt[scl_flt.apply(lambda x: x['Des-I'] != x['Des-O'], axis = 1)][[\"Des-I\",\"Des-O\"]]"
   ]
  },
  {
   "cell_type": "code",
   "execution_count": 17,
   "id": "0371964d",
   "metadata": {},
   "outputs": [],
   "source": [
    "diffDest['Des-I']=diffDest['Des-I'].str.slice(0, 2)\n",
    "diffDest['Des-O']=diffDest['Des-O'].str.slice(0, 2)"
   ]
  },
  {
   "cell_type": "code",
   "execution_count": 18,
   "id": "126587e8",
   "metadata": {},
   "outputs": [
    {
     "data": {
      "text/html": [
       "<div>\n",
       "<style scoped>\n",
       "    .dataframe tbody tr th:only-of-type {\n",
       "        vertical-align: middle;\n",
       "    }\n",
       "\n",
       "    .dataframe tbody tr th {\n",
       "        vertical-align: top;\n",
       "    }\n",
       "\n",
       "    .dataframe thead th {\n",
       "        text-align: right;\n",
       "    }\n",
       "</style>\n",
       "<table border=\"1\" class=\"dataframe\">\n",
       "  <thead>\n",
       "    <tr style=\"text-align: right;\">\n",
       "      <th></th>\n",
       "      <th>Des-I</th>\n",
       "      <th>Des-O</th>\n",
       "    </tr>\n",
       "  </thead>\n",
       "  <tbody>\n",
       "    <tr>\n",
       "      <th>16169</th>\n",
       "      <td>KJ</td>\n",
       "      <td>KM</td>\n",
       "    </tr>\n",
       "    <tr>\n",
       "      <th>16937</th>\n",
       "      <td>SE</td>\n",
       "      <td>SA</td>\n",
       "    </tr>\n",
       "    <tr>\n",
       "      <th>62651</th>\n",
       "      <td>YS</td>\n",
       "      <td>YM</td>\n",
       "    </tr>\n",
       "    <tr>\n",
       "      <th>67697</th>\n",
       "      <td>SA</td>\n",
       "      <td>SB</td>\n",
       "    </tr>\n",
       "  </tbody>\n",
       "</table>\n",
       "</div>"
      ],
      "text/plain": [
       "      Des-I Des-O\n",
       "16169    KJ    KM\n",
       "16937    SE    SA\n",
       "62651    YS    YM\n",
       "67697    SA    SB"
      ]
     },
     "execution_count": 18,
     "metadata": {},
     "output_type": "execute_result"
    }
   ],
   "source": [
    "diffDest[diffDest['Des-I']!=diffDest['Des-O']]"
   ]
  },
  {
   "cell_type": "markdown",
   "id": "98c9c13d",
   "metadata": {},
   "source": [
    "The count by airports shows us that only one airport serves Antofagasta ```SCFA``` while Buenos Aires is served by two airports Ezeiza ```SAEZ``` and the Aeroparque ```SABE```. This is why the most operated city is Buenos Aires but the most operated airport is SCFA in the destination, and we can check this in the following pivot table where Buenos Aires have more than 6000 flights because  ```SAEZ``` and  ```SABE```."
   ]
  },
  {
   "cell_type": "code",
   "execution_count": 19,
   "id": "ed26e7f6",
   "metadata": {},
   "outputs": [
    {
     "data": {
      "text/html": [
       "<div>\n",
       "<style scoped>\n",
       "    .dataframe tbody tr th:only-of-type {\n",
       "        vertical-align: middle;\n",
       "    }\n",
       "\n",
       "    .dataframe tbody tr th {\n",
       "        vertical-align: top;\n",
       "    }\n",
       "\n",
       "    .dataframe thead th {\n",
       "        text-align: right;\n",
       "    }\n",
       "</style>\n",
       "<table border=\"1\" class=\"dataframe\">\n",
       "  <thead>\n",
       "    <tr style=\"text-align: right;\">\n",
       "      <th></th>\n",
       "      <th>SIGLADES</th>\n",
       "      <th>Buenos Aires</th>\n",
       "    </tr>\n",
       "    <tr>\n",
       "      <th>Des-I</th>\n",
       "      <th>Des-O</th>\n",
       "      <th></th>\n",
       "    </tr>\n",
       "  </thead>\n",
       "  <tbody>\n",
       "    <tr>\n",
       "      <th rowspan=\"2\" valign=\"top\">SABE</th>\n",
       "      <th>SABE</th>\n",
       "      <td>3090</td>\n",
       "    </tr>\n",
       "    <tr>\n",
       "      <th>SAEZ</th>\n",
       "      <td>4</td>\n",
       "    </tr>\n",
       "    <tr>\n",
       "      <th rowspan=\"2\" valign=\"top\">SAEZ</th>\n",
       "      <th>SABE</th>\n",
       "      <td>3</td>\n",
       "    </tr>\n",
       "    <tr>\n",
       "      <th>SAEZ</th>\n",
       "      <td>3237</td>\n",
       "    </tr>\n",
       "    <tr>\n",
       "      <th>SEGU</th>\n",
       "      <th>SABE</th>\n",
       "      <td>1</td>\n",
       "    </tr>\n",
       "  </tbody>\n",
       "</table>\n",
       "</div>"
      ],
      "text/plain": [
       "SIGLADES     Buenos Aires\n",
       "Des-I Des-O              \n",
       "SABE  SABE           3090\n",
       "      SAEZ              4\n",
       "SAEZ  SABE              3\n",
       "      SAEZ           3237\n",
       "SEGU  SABE              1"
      ]
     },
     "execution_count": 19,
     "metadata": {},
     "output_type": "execute_result"
    }
   ],
   "source": [
    "scl_flt[scl_flt[\"SIGLADES\"]==\"Buenos Aires\"].pivot_table(values = \"Fecha-I\", index = [\"Des-I\",\"Des-O\"], columns = \"SIGLADES\",  aggfunc = \"count\")"
   ]
  },
  {
   "cell_type": "markdown",
   "id": "54459a8a",
   "metadata": {},
   "source": [
    "### Airline"
   ]
  },
  {
   "cell_type": "markdown",
   "id": "320951ff",
   "metadata": {},
   "source": [
    "The code of the Airline has different values and changes between  ```Emp-I``` and  ```Emp-O```, but in some cases one airline can have different call signs due to the tripulation, the plane and so on. In this case Grupo LATAM is the biggest airline that operates on the airport of Santiago, and we can see that they have different codes for the same airline.\n",
    "\n",
    "Due to the changes of the codes and the different options that this code has, it is better to use the column ```OPERA```, because it gives us the most high-level perspective to deal with the airlines."
   ]
  },
  {
   "cell_type": "code",
   "execution_count": 20,
   "id": "df0344ea",
   "metadata": {
    "scrolled": false
   },
   "outputs": [
    {
     "data": {
      "text/plain": [
       "LAN    37611\n",
       "SKU    14298\n",
       "TAM     3049\n",
       "ARG     1949\n",
       "CMP     1850\n",
       "LAW     1574\n",
       "AVA     1152\n",
       "JAT     1095\n",
       "GLO      806\n",
       "AAL      757\n",
       "ACA      565\n",
       "IBE      362\n",
       "AFR      358\n",
       "DAL      358\n",
       "AMX      351\n",
       "UAL      335\n",
       "ONE      279\n",
       "AZA      259\n",
       "KLM      251\n",
       "LAP      216\n",
       "BAW      205\n",
       "QFU      195\n",
       "JMR      100\n",
       "LRC       92\n",
       "AUT       74\n",
       "PUE       49\n",
       "LXP        9\n",
       "LPE        4\n",
       "DSM        2\n",
       "LNE        1\n",
       "Name: Emp-I, dtype: int64"
      ]
     },
     "execution_count": 20,
     "metadata": {},
     "output_type": "execute_result"
    }
   ],
   "source": [
    "scl_flt[\"Emp-I\"].value_counts()"
   ]
  },
  {
   "cell_type": "code",
   "execution_count": 21,
   "id": "1474269c",
   "metadata": {
    "scrolled": false
   },
   "outputs": [
    {
     "data": {
      "text/plain": [
       "LAN    20988\n",
       "LXP    14558\n",
       "SKU    14298\n",
       "TAM     3046\n",
       "ARG     1946\n",
       "CMP     1850\n",
       "JMR     1647\n",
       "LPE     1214\n",
       "JAT     1095\n",
       "AVA      885\n",
       "GLO      806\n",
       "AAL      757\n",
       "ACA      565\n",
       "DSM      493\n",
       "LNE      374\n",
       "IBE      362\n",
       "AFR      358\n",
       "DAL      358\n",
       "LRC      357\n",
       "AMX      351\n",
       "UAL      335\n",
       "ONE      279\n",
       "AZA      259\n",
       "KLM      251\n",
       "LAP      219\n",
       "BAW      205\n",
       "QFA      195\n",
       "AUT       77\n",
       "PUE       49\n",
       "56R       17\n",
       "48O       10\n",
       "TPU        2\n",
       "Name: Emp-O, dtype: int64"
      ]
     },
     "execution_count": 21,
     "metadata": {},
     "output_type": "execute_result"
    }
   ],
   "source": [
    "scl_flt[\"Emp-O\"].value_counts()"
   ]
  },
  {
   "cell_type": "code",
   "execution_count": 22,
   "id": "a1371597",
   "metadata": {
    "scrolled": true
   },
   "outputs": [
    {
     "data": {
      "text/plain": [
       "40892"
      ]
     },
     "execution_count": 22,
     "metadata": {},
     "output_type": "execute_result"
    }
   ],
   "source": [
    "scl_flt[scl_flt[\"OPERA\"]==\"Grupo LATAM\"].value_counts().sum()"
   ]
  },
  {
   "cell_type": "code",
   "execution_count": 23,
   "id": "c8065935",
   "metadata": {},
   "outputs": [
    {
     "data": {
      "text/html": [
       "<div>\n",
       "<style scoped>\n",
       "    .dataframe tbody tr th:only-of-type {\n",
       "        vertical-align: middle;\n",
       "    }\n",
       "\n",
       "    .dataframe tbody tr th {\n",
       "        vertical-align: top;\n",
       "    }\n",
       "\n",
       "    .dataframe thead th {\n",
       "        text-align: right;\n",
       "    }\n",
       "</style>\n",
       "<table border=\"1\" class=\"dataframe\">\n",
       "  <thead>\n",
       "    <tr style=\"text-align: right;\">\n",
       "      <th></th>\n",
       "      <th>OPERA</th>\n",
       "      <th>Grupo LATAM</th>\n",
       "    </tr>\n",
       "    <tr>\n",
       "      <th>Emp-I</th>\n",
       "      <th>Emp-O</th>\n",
       "      <th></th>\n",
       "    </tr>\n",
       "  </thead>\n",
       "  <tbody>\n",
       "    <tr>\n",
       "      <th>DSM</th>\n",
       "      <th>DSM</th>\n",
       "      <td>2</td>\n",
       "    </tr>\n",
       "    <tr>\n",
       "      <th rowspan=\"5\" valign=\"top\">LAN</th>\n",
       "      <th>DSM</th>\n",
       "      <td>491</td>\n",
       "    </tr>\n",
       "    <tr>\n",
       "      <th>LAN</th>\n",
       "      <td>20988</td>\n",
       "    </tr>\n",
       "    <tr>\n",
       "      <th>LNE</th>\n",
       "      <td>373</td>\n",
       "    </tr>\n",
       "    <tr>\n",
       "      <th>LPE</th>\n",
       "      <td>1210</td>\n",
       "    </tr>\n",
       "    <tr>\n",
       "      <th>LXP</th>\n",
       "      <td>14549</td>\n",
       "    </tr>\n",
       "    <tr>\n",
       "      <th>LAP</th>\n",
       "      <th>LAP</th>\n",
       "      <td>216</td>\n",
       "    </tr>\n",
       "    <tr>\n",
       "      <th>LNE</th>\n",
       "      <th>LNE</th>\n",
       "      <td>1</td>\n",
       "    </tr>\n",
       "    <tr>\n",
       "      <th>LPE</th>\n",
       "      <th>LPE</th>\n",
       "      <td>4</td>\n",
       "    </tr>\n",
       "    <tr>\n",
       "      <th>LXP</th>\n",
       "      <th>LXP</th>\n",
       "      <td>9</td>\n",
       "    </tr>\n",
       "    <tr>\n",
       "      <th rowspan=\"2\" valign=\"top\">TAM</th>\n",
       "      <th>LAP</th>\n",
       "      <td>3</td>\n",
       "    </tr>\n",
       "    <tr>\n",
       "      <th>TAM</th>\n",
       "      <td>3046</td>\n",
       "    </tr>\n",
       "  </tbody>\n",
       "</table>\n",
       "</div>"
      ],
      "text/plain": [
       "OPERA        Grupo LATAM\n",
       "Emp-I Emp-O             \n",
       "DSM   DSM              2\n",
       "LAN   DSM            491\n",
       "      LAN          20988\n",
       "      LNE            373\n",
       "      LPE           1210\n",
       "      LXP          14549\n",
       "LAP   LAP            216\n",
       "LNE   LNE              1\n",
       "LPE   LPE              4\n",
       "LXP   LXP              9\n",
       "TAM   LAP              3\n",
       "      TAM           3046"
      ]
     },
     "execution_count": 23,
     "metadata": {},
     "output_type": "execute_result"
    }
   ],
   "source": [
    "scl_flt[scl_flt[\"OPERA\"]==\"Grupo LATAM\"].pivot_table(index=[\"Emp-I\",\"Emp-O\"], columns =\"OPERA\", values = \"Des-I\", aggfunc = \"count\")"
   ]
  },
  {
   "cell_type": "code",
   "execution_count": 24,
   "id": "0bd8e8c0",
   "metadata": {},
   "outputs": [
    {
     "data": {
      "text/plain": [
       "Sky Airline                 14298\n",
       "Aerolineas Argentinas        1949\n",
       "Copa Air                     1850\n",
       "Latin American Wings         1674\n",
       "Avianca                      1152\n",
       "JetSmart SPA                 1095\n",
       "Gol Trans                     806\n",
       "American Airlines             757\n",
       "Air Canada                    565\n",
       "Iberia                        362\n",
       "Delta Air                     358\n",
       "Air France                    358\n",
       "Aeromexico                    351\n",
       "United Airlines               335\n",
       "Oceanair Linhas Aereas        279\n",
       "Alitalia                      259\n",
       "K.L.M.                        251\n",
       "British Airways               205\n",
       "Qantas Airways                195\n",
       "Lacsa                          92\n",
       "Austral                        74\n",
       "Plus Ultra Lineas Aereas       49\n",
       "Name: OPERA, dtype: int64"
      ]
     },
     "execution_count": 24,
     "metadata": {},
     "output_type": "execute_result"
    }
   ],
   "source": [
    "scl_flt[scl_flt[\"OPERA\"]!=\"Grupo LATAM\"][\"OPERA\"].value_counts()"
   ]
  },
  {
   "cell_type": "markdown",
   "id": "5b9caff2",
   "metadata": {},
   "source": [
    "## New Variables"
   ]
  },
  {
   "cell_type": "markdown",
   "id": "f98b5b02",
   "metadata": {},
   "source": [
    "Introducing the new columns to the DataFrame will provide us with new variables in order to deal with the delayed flights.\n",
    "\n",
    "We need to handle the dates and give the high season dates, and also to work with datetime variables to obtain the differences between the initial/scheduled flight and the operated flight.\n"
   ]
  },
  {
   "cell_type": "code",
   "execution_count": 25,
   "id": "24f60217",
   "metadata": {},
   "outputs": [],
   "source": [
    "scl_flt[\"Date-I\"] = pd.to_datetime(scl_flt[\"Fecha-I\"])\n",
    "scl_flt[\"Date-O\"] = pd.to_datetime(scl_flt[\"Fecha-O\"])"
   ]
  },
  {
   "cell_type": "code",
   "execution_count": 26,
   "id": "dd341cd3",
   "metadata": {},
   "outputs": [],
   "source": [
    "scl_flt[\"temporada_alta\"]=(scl_flt[\"Date-I\"]<=\"2017-03-03\")+(scl_flt[\"Date-I\"]>\"2017-07-15\") & (scl_flt[\"Date-I\"]<\"2017-07-31\")+(scl_flt[\"Date-I\"]>\"2017-09-11\") & (scl_flt[\"Date-I\"]<\"2017-09-30\")+(scl_flt[\"Date-I\"]>\"2017-12-15\")"
   ]
  },
  {
   "cell_type": "code",
   "execution_count": 27,
   "id": "565d4d47",
   "metadata": {},
   "outputs": [],
   "source": [
    "scl_flt[\"temporada_alta\"]= scl_flt[\"temporada_alta\"]*1"
   ]
  },
  {
   "cell_type": "code",
   "execution_count": 28,
   "id": "d7beb665",
   "metadata": {},
   "outputs": [],
   "source": [
    "scl_flt[\"dif_min\"]=((scl_flt[\"Date-O\"]-scl_flt[\"Date-I\"])/pd.Timedelta(minutes=1)).astype(int)"
   ]
  },
  {
   "cell_type": "code",
   "execution_count": 29,
   "id": "cbf2e8ef",
   "metadata": {},
   "outputs": [],
   "source": [
    "scl_flt[\"atraso_15\"]=(scl_flt[\"dif_min\"]>15)*1"
   ]
  },
  {
   "cell_type": "code",
   "execution_count": 30,
   "id": "137ae021",
   "metadata": {},
   "outputs": [],
   "source": [
    "scl_flt[\"HOUR\"]=scl_flt[\"Date-I\"].apply(lambda x: x.hour)"
   ]
  },
  {
   "cell_type": "code",
   "execution_count": 31,
   "id": "8db6cc59",
   "metadata": {},
   "outputs": [],
   "source": [
    "scl_flt[\"periodo_dia\"] = \"noche\""
   ]
  },
  {
   "cell_type": "code",
   "execution_count": 32,
   "id": "e94616f4",
   "metadata": {},
   "outputs": [],
   "source": [
    "scl_flt.loc[(scl_flt[\"HOUR\"]>=5) & (scl_flt[\"HOUR\"]<12),[\"periodo_dia\"]] = \"manana\""
   ]
  },
  {
   "cell_type": "code",
   "execution_count": 33,
   "id": "0adbb3ea",
   "metadata": {},
   "outputs": [],
   "source": [
    "scl_flt.loc[(scl_flt[\"HOUR\"]>=12) & (scl_flt[\"HOUR\"]<19),[\"periodo_dia\"]] = \"tarde\""
   ]
  },
  {
   "cell_type": "code",
   "execution_count": 34,
   "id": "f28fb578",
   "metadata": {},
   "outputs": [],
   "source": [
    "scl_flt[[\"temporada_alta\",\"dif_min\",\"atraso_15\",\"periodo_dia\"]].to_csv(\"synthetic_features.csv\",index=False)"
   ]
  },
  {
   "cell_type": "markdown",
   "id": "6574d1eb",
   "metadata": {},
   "source": [
    "## Delayed flights rate"
   ]
  },
  {
   "cell_type": "markdown",
   "id": "f4195cfc",
   "metadata": {},
   "source": [
    "Our variable of interest is the difference in minutes between the original date of flight and the actual operated flight, this gives us the minutes of delay in the variable ```dif_min```. First we need to identify the distribution of the data, and the basic descriptive statistics about this in order to create models.\n",
    "\n",
    "We can see that the mean time of delay at the airport of Santiago is 9 minutes, representing a good performance.And at the same time we see that the maximum value is 161 minutes that in hours is around 2.6 hours.\n",
    "\n",
    "Also we can find that minimum value is 14 earlier than expected.\n",
    "Finally the standard deviation of the data is not so big given that this is the data of all the operations departing from Santiago, but in the case that the airport start having a better On-Time performance the standard deviantion will be smaller."
   ]
  },
  {
   "cell_type": "code",
   "execution_count": 35,
   "id": "78f9d7c3",
   "metadata": {},
   "outputs": [
    {
     "data": {
      "text/plain": [
       "count    68206.000000\n",
       "mean         9.110855\n",
       "std         19.313387\n",
       "min        -14.000000\n",
       "25%         -1.000000\n",
       "50%          4.000000\n",
       "75%         12.000000\n",
       "max        161.000000\n",
       "Name: dif_min, dtype: float64"
      ]
     },
     "execution_count": 35,
     "metadata": {},
     "output_type": "execute_result"
    }
   ],
   "source": [
    "scl_flt[\"dif_min\"].describe()"
   ]
  },
  {
   "cell_type": "markdown",
   "id": "1c90dd81",
   "metadata": {},
   "source": [
    "The boxplot of the distribution shows that the data have many outliers out of the maximum value of the whiskers.\n",
    "Based on the percentile 75 and 25 we can calculate this maximum value of the whiskers given the interquartile range, and it is 31.5, so all the values that are higher than 31.5 minutes are outliers.\n"
   ]
  },
  {
   "cell_type": "code",
   "execution_count": 36,
   "id": "b6edad9d",
   "metadata": {},
   "outputs": [
    {
     "data": {
      "text/plain": [
       "31.5"
      ]
     },
     "execution_count": 36,
     "metadata": {},
     "output_type": "execute_result"
    }
   ],
   "source": [
    "(13*1.5)+12"
   ]
  },
  {
   "cell_type": "code",
   "execution_count": 37,
   "id": "c3bfeeb0",
   "metadata": {},
   "outputs": [
    {
     "name": "stderr",
     "output_type": "stream",
     "text": [
      "C:\\Users\\sebas\\anaconda3\\envs\\LATAM\\lib\\site-packages\\seaborn\\_decorators.py:36: FutureWarning: Pass the following variable as a keyword arg: x. From version 0.12, the only valid positional argument will be `data`, and passing other arguments without an explicit keyword will result in an error or misinterpretation.\n",
      "  warnings.warn(\n"
     ]
    },
    {
     "data": {
      "text/plain": [
       "<AxesSubplot:xlabel='dif_min'>"
      ]
     },
     "execution_count": 37,
     "metadata": {},
     "output_type": "execute_result"
    },
    {
     "data": {
      "image/png": "[encoded data removed]",
      "text/plain": [
       "<Figure size 432x288 with 1 Axes>"
      ]
     },
     "metadata": {
      "needs_background": "light"
     },
     "output_type": "display_data"
    }
   ],
   "source": [
    "sns.boxplot(scl_flt[\"dif_min\"])"
   ]
  },
  {
   "cell_type": "markdown",
   "id": "38c24f83",
   "metadata": {},
   "source": [
    "I am not deleting the outliers in the DataFrame I am only removing the outliers from the plots because is going to look cleaner and is going to provide to us better information."
   ]
  },
  {
   "cell_type": "code",
   "execution_count": 38,
   "id": "21172c3c",
   "metadata": {},
   "outputs": [
    {
     "name": "stderr",
     "output_type": "stream",
     "text": [
      "C:\\Users\\sebas\\anaconda3\\envs\\LATAM\\lib\\site-packages\\seaborn\\_decorators.py:36: FutureWarning: Pass the following variable as a keyword arg: x. From version 0.12, the only valid positional argument will be `data`, and passing other arguments without an explicit keyword will result in an error or misinterpretation.\n",
      "  warnings.warn(\n"
     ]
    },
    {
     "data": {
      "text/plain": [
       "<AxesSubplot:xlabel='dif_min'>"
      ]
     },
     "execution_count": 38,
     "metadata": {},
     "output_type": "execute_result"
    },
    {
     "data": {
      "image/png": "[encoded data removed]",
      "text/plain": [
       "<Figure size 432x288 with 1 Axes>"
      ]
     },
     "metadata": {
      "needs_background": "light"
     },
     "output_type": "display_data"
    }
   ],
   "source": [
    " sns.boxplot(scl_flt[\"dif_min\"],showfliers = False)"
   ]
  },
  {
   "cell_type": "markdown",
   "id": "83639225",
   "metadata": {},
   "source": [
    "The percentile 90 of the ```dif_min``` is 26 min, this is saying to us that the 90% of the data is below 26 minutes of delay. Given the complexity of operation of an airport having this metric is a good performance."
   ]
  },
  {
   "cell_type": "code",
   "execution_count": 39,
   "id": "0e74e4ea",
   "metadata": {},
   "outputs": [
    {
     "data": {
      "text/plain": [
       "26.0"
      ]
     },
     "execution_count": 39,
     "metadata": {},
     "output_type": "execute_result"
    }
   ],
   "source": [
    "scl_flt[\"dif_min\"].quantile(.90)"
   ]
  },
  {
   "cell_type": "code",
   "execution_count": 40,
   "id": "fc9bd954",
   "metadata": {},
   "outputs": [],
   "source": [
    "def highlight(val):\n",
    "    if(val>=15):\n",
    "        color = 'red'\n",
    "    elif(val<10):\n",
    "        color = 'green'\n",
    "    else:\n",
    "        color = 'black'\n",
    "    return 'color: %s' % color"
   ]
  },
  {
   "cell_type": "markdown",
   "id": "822b8662",
   "metadata": {},
   "source": [
    "The international flights have a worst performance overall and usually have bigger values on the boxplot.\n",
    "The value of the mean is significant.\n",
    "\n",
    "Also adding and computing the variable of the airline ```OPERA```, comparing the same airline in the type of flight in all the cases, the International flights get delayed. \n",
    "\n",
    "On the other hand airlines such as Qantas, jetSmart, Latin American Wings and Aircanada have a bad On-Time Performance.  And airlines like Air France, Austral, British have a really good performance, so considering the airline and the type of flight on the models is a good idea because can separate the data.\n"
   ]
  },
  {
   "cell_type": "code",
   "execution_count": 41,
   "id": "c3a825c6",
   "metadata": {},
   "outputs": [
    {
     "data": {
      "text/html": [
       "<div>\n",
       "<style scoped>\n",
       "    .dataframe tbody tr th:only-of-type {\n",
       "        vertical-align: middle;\n",
       "    }\n",
       "\n",
       "    .dataframe tbody tr th {\n",
       "        vertical-align: top;\n",
       "    }\n",
       "\n",
       "    .dataframe thead th {\n",
       "        text-align: right;\n",
       "    }\n",
       "</style>\n",
       "<table border=\"1\" class=\"dataframe\">\n",
       "  <thead>\n",
       "    <tr style=\"text-align: right;\">\n",
       "      <th>TIPOVUELO</th>\n",
       "      <th>I</th>\n",
       "      <th>N</th>\n",
       "    </tr>\n",
       "  </thead>\n",
       "  <tbody>\n",
       "    <tr>\n",
       "      <th>dif_min</th>\n",
       "      <td>10.638892</td>\n",
       "      <td>7.81951</td>\n",
       "    </tr>\n",
       "  </tbody>\n",
       "</table>\n",
       "</div>"
      ],
      "text/plain": [
       "TIPOVUELO          I        N\n",
       "dif_min    10.638892  7.81951"
      ]
     },
     "execution_count": 41,
     "metadata": {},
     "output_type": "execute_result"
    }
   ],
   "source": [
    "scl_flt.pivot_table(values = \"dif_min\",columns=\"TIPOVUELO\",aggfunc=(np.mean))"
   ]
  },
  {
   "cell_type": "code",
   "execution_count": 42,
   "id": "3bd71f95",
   "metadata": {
    "scrolled": true
   },
   "outputs": [
    {
     "data": {
      "text/plain": [
       "<AxesSubplot:xlabel='TIPOVUELO', ylabel='dif_min'>"
      ]
     },
     "execution_count": 42,
     "metadata": {},
     "output_type": "execute_result"
    },
    {
     "data": {
      "image/png": "[encoded data removed]",
      "text/plain": [
       "<Figure size 432x288 with 1 Axes>"
      ]
     },
     "metadata": {
      "needs_background": "light"
     },
     "output_type": "display_data"
    }
   ],
   "source": [
    "sns.boxplot(x=\"TIPOVUELO\", y=\"dif_min\", data=scl_flt, showfliers = False)"
   ]
  },
  {
   "cell_type": "code",
   "execution_count": 43,
   "id": "5c905e22",
   "metadata": {},
   "outputs": [
    {
     "data": {
      "text/html": [
       "<style type=\"text/css\">\n",
       "#T_7d12a_row0_col0, #T_7d12a_row0_col1, #T_7d12a_row1_col1, #T_7d12a_row2_col1, #T_7d12a_row3_col1, #T_7d12a_row4_col1, #T_7d12a_row5_col1, #T_7d12a_row6_col1, #T_7d12a_row7_col0, #T_7d12a_row7_col1, #T_7d12a_row8_col1, #T_7d12a_row9_col1, #T_7d12a_row10_col1, #T_7d12a_row11_col0, #T_7d12a_row11_col1, #T_7d12a_row12_col0, #T_7d12a_row13_col1, #T_7d12a_row15_col1, #T_7d12a_row16_col1, #T_7d12a_row18_col1, #T_7d12a_row19_col1, #T_7d12a_row20_col1, #T_7d12a_row22_col1 {\n",
       "  color: black;\n",
       "}\n",
       "#T_7d12a_row1_col0, #T_7d12a_row3_col0, #T_7d12a_row4_col0, #T_7d12a_row5_col0, #T_7d12a_row6_col0, #T_7d12a_row8_col0, #T_7d12a_row9_col0, #T_7d12a_row10_col0, #T_7d12a_row12_col1, #T_7d12a_row13_col0, #T_7d12a_row14_col1, #T_7d12a_row15_col0, #T_7d12a_row16_col0, #T_7d12a_row18_col0, #T_7d12a_row21_col0, #T_7d12a_row21_col1, #T_7d12a_row22_col0 {\n",
       "  color: green;\n",
       "}\n",
       "#T_7d12a_row2_col0, #T_7d12a_row14_col0, #T_7d12a_row17_col0, #T_7d12a_row17_col1, #T_7d12a_row19_col0, #T_7d12a_row20_col0 {\n",
       "  color: red;\n",
       "}\n",
       "</style>\n",
       "<table id=\"T_7d12a\">\n",
       "  <thead>\n",
       "    <tr>\n",
       "      <th class=\"index_name level0\" >TIPOVUELO</th>\n",
       "      <th id=\"T_7d12a_level0_col0\" class=\"col_heading level0 col0\" >I</th>\n",
       "      <th id=\"T_7d12a_level0_col1\" class=\"col_heading level0 col1\" >N</th>\n",
       "    </tr>\n",
       "    <tr>\n",
       "      <th class=\"index_name level0\" >OPERA</th>\n",
       "      <th class=\"blank col0\" >&nbsp;</th>\n",
       "      <th class=\"blank col1\" >&nbsp;</th>\n",
       "    </tr>\n",
       "  </thead>\n",
       "  <tbody>\n",
       "    <tr>\n",
       "      <th id=\"T_7d12a_level0_row0\" class=\"row_heading level0 row0\" >Aerolineas Argentinas</th>\n",
       "      <td id=\"T_7d12a_row0_col0\" class=\"data row0 col0\" >10.004618</td>\n",
       "      <td id=\"T_7d12a_row0_col1\" class=\"data row0 col1\" >nan</td>\n",
       "    </tr>\n",
       "    <tr>\n",
       "      <th id=\"T_7d12a_level0_row1\" class=\"row_heading level0 row1\" >Aeromexico</th>\n",
       "      <td id=\"T_7d12a_row1_col0\" class=\"data row1 col0\" >-2.495726</td>\n",
       "      <td id=\"T_7d12a_row1_col1\" class=\"data row1 col1\" >nan</td>\n",
       "    </tr>\n",
       "    <tr>\n",
       "      <th id=\"T_7d12a_level0_row2\" class=\"row_heading level0 row2\" >Air Canada</th>\n",
       "      <td id=\"T_7d12a_row2_col0\" class=\"data row2 col0\" >22.909735</td>\n",
       "      <td id=\"T_7d12a_row2_col1\" class=\"data row2 col1\" >nan</td>\n",
       "    </tr>\n",
       "    <tr>\n",
       "      <th id=\"T_7d12a_level0_row3\" class=\"row_heading level0 row3\" >Air France</th>\n",
       "      <td id=\"T_7d12a_row3_col0\" class=\"data row3 col0\" >1.399441</td>\n",
       "      <td id=\"T_7d12a_row3_col1\" class=\"data row3 col1\" >nan</td>\n",
       "    </tr>\n",
       "    <tr>\n",
       "      <th id=\"T_7d12a_level0_row4\" class=\"row_heading level0 row4\" >Alitalia</th>\n",
       "      <td id=\"T_7d12a_row4_col0\" class=\"data row4 col0\" >5.293436</td>\n",
       "      <td id=\"T_7d12a_row4_col1\" class=\"data row4 col1\" >nan</td>\n",
       "    </tr>\n",
       "    <tr>\n",
       "      <th id=\"T_7d12a_level0_row5\" class=\"row_heading level0 row5\" >American Airlines</th>\n",
       "      <td id=\"T_7d12a_row5_col0\" class=\"data row5 col0\" >0.277411</td>\n",
       "      <td id=\"T_7d12a_row5_col1\" class=\"data row5 col1\" >nan</td>\n",
       "    </tr>\n",
       "    <tr>\n",
       "      <th id=\"T_7d12a_level0_row6\" class=\"row_heading level0 row6\" >Austral</th>\n",
       "      <td id=\"T_7d12a_row6_col0\" class=\"data row6 col0\" >6.608108</td>\n",
       "      <td id=\"T_7d12a_row6_col1\" class=\"data row6 col1\" >nan</td>\n",
       "    </tr>\n",
       "    <tr>\n",
       "      <th id=\"T_7d12a_level0_row7\" class=\"row_heading level0 row7\" >Avianca</th>\n",
       "      <td id=\"T_7d12a_row7_col0\" class=\"data row7 col0\" >11.131944</td>\n",
       "      <td id=\"T_7d12a_row7_col1\" class=\"data row7 col1\" >nan</td>\n",
       "    </tr>\n",
       "    <tr>\n",
       "      <th id=\"T_7d12a_level0_row8\" class=\"row_heading level0 row8\" >British Airways</th>\n",
       "      <td id=\"T_7d12a_row8_col0\" class=\"data row8 col0\" >7.560976</td>\n",
       "      <td id=\"T_7d12a_row8_col1\" class=\"data row8 col1\" >nan</td>\n",
       "    </tr>\n",
       "    <tr>\n",
       "      <th id=\"T_7d12a_level0_row9\" class=\"row_heading level0 row9\" >Copa Air</th>\n",
       "      <td id=\"T_7d12a_row9_col0\" class=\"data row9 col0\" >0.214054</td>\n",
       "      <td id=\"T_7d12a_row9_col1\" class=\"data row9 col1\" >nan</td>\n",
       "    </tr>\n",
       "    <tr>\n",
       "      <th id=\"T_7d12a_level0_row10\" class=\"row_heading level0 row10\" >Delta Air</th>\n",
       "      <td id=\"T_7d12a_row10_col0\" class=\"data row10 col0\" >0.114525</td>\n",
       "      <td id=\"T_7d12a_row10_col1\" class=\"data row10 col1\" >nan</td>\n",
       "    </tr>\n",
       "    <tr>\n",
       "      <th id=\"T_7d12a_level0_row11\" class=\"row_heading level0 row11\" >Gol Trans</th>\n",
       "      <td id=\"T_7d12a_row11_col0\" class=\"data row11 col0\" >11.911911</td>\n",
       "      <td id=\"T_7d12a_row11_col1\" class=\"data row11 col1\" >nan</td>\n",
       "    </tr>\n",
       "    <tr>\n",
       "      <th id=\"T_7d12a_level0_row12\" class=\"row_heading level0 row12\" >Grupo LATAM</th>\n",
       "      <td id=\"T_7d12a_row12_col0\" class=\"data row12 col0\" >11.938247</td>\n",
       "      <td id=\"T_7d12a_row12_col1\" class=\"data row12 col1\" >7.688329</td>\n",
       "    </tr>\n",
       "    <tr>\n",
       "      <th id=\"T_7d12a_level0_row13\" class=\"row_heading level0 row13\" >Iberia</th>\n",
       "      <td id=\"T_7d12a_row13_col0\" class=\"data row13 col0\" >4.276243</td>\n",
       "      <td id=\"T_7d12a_row13_col1\" class=\"data row13 col1\" >nan</td>\n",
       "    </tr>\n",
       "    <tr>\n",
       "      <th id=\"T_7d12a_level0_row14\" class=\"row_heading level0 row14\" >JetSmart SPA</th>\n",
       "      <td id=\"T_7d12a_row14_col0\" class=\"data row14 col0\" >23.333333</td>\n",
       "      <td id=\"T_7d12a_row14_col1\" class=\"data row14 col1\" >7.354454</td>\n",
       "    </tr>\n",
       "    <tr>\n",
       "      <th id=\"T_7d12a_level0_row15\" class=\"row_heading level0 row15\" >K.L.M.</th>\n",
       "      <td id=\"T_7d12a_row15_col0\" class=\"data row15 col0\" >1.310757</td>\n",
       "      <td id=\"T_7d12a_row15_col1\" class=\"data row15 col1\" >nan</td>\n",
       "    </tr>\n",
       "    <tr>\n",
       "      <th id=\"T_7d12a_level0_row16\" class=\"row_heading level0 row16\" >Lacsa</th>\n",
       "      <td id=\"T_7d12a_row16_col0\" class=\"data row16 col0\" >4.880435</td>\n",
       "      <td id=\"T_7d12a_row16_col1\" class=\"data row16 col1\" >nan</td>\n",
       "    </tr>\n",
       "    <tr>\n",
       "      <th id=\"T_7d12a_level0_row17\" class=\"row_heading level0 row17\" >Latin American Wings</th>\n",
       "      <td id=\"T_7d12a_row17_col0\" class=\"data row17 col0\" >29.863198</td>\n",
       "      <td id=\"T_7d12a_row17_col1\" class=\"data row17 col1\" >15.921384</td>\n",
       "    </tr>\n",
       "    <tr>\n",
       "      <th id=\"T_7d12a_level0_row18\" class=\"row_heading level0 row18\" >Oceanair Linhas Aereas</th>\n",
       "      <td id=\"T_7d12a_row18_col0\" class=\"data row18 col0\" >6.340502</td>\n",
       "      <td id=\"T_7d12a_row18_col1\" class=\"data row18 col1\" >nan</td>\n",
       "    </tr>\n",
       "    <tr>\n",
       "      <th id=\"T_7d12a_level0_row19\" class=\"row_heading level0 row19\" >Plus Ultra Lineas Aereas</th>\n",
       "      <td id=\"T_7d12a_row19_col0\" class=\"data row19 col0\" >31.714286</td>\n",
       "      <td id=\"T_7d12a_row19_col1\" class=\"data row19 col1\" >nan</td>\n",
       "    </tr>\n",
       "    <tr>\n",
       "      <th id=\"T_7d12a_level0_row20\" class=\"row_heading level0 row20\" >Qantas Airways</th>\n",
       "      <td id=\"T_7d12a_row20_col0\" class=\"data row20 col0\" >26.835897</td>\n",
       "      <td id=\"T_7d12a_row20_col1\" class=\"data row20 col1\" >nan</td>\n",
       "    </tr>\n",
       "    <tr>\n",
       "      <th id=\"T_7d12a_level0_row21\" class=\"row_heading level0 row21\" >Sky Airline</th>\n",
       "      <td id=\"T_7d12a_row21_col0\" class=\"data row21 col0\" >9.886429</td>\n",
       "      <td id=\"T_7d12a_row21_col1\" class=\"data row21 col1\" >7.686293</td>\n",
       "    </tr>\n",
       "    <tr>\n",
       "      <th id=\"T_7d12a_level0_row22\" class=\"row_heading level0 row22\" >United Airlines</th>\n",
       "      <td id=\"T_7d12a_row22_col0\" class=\"data row22 col0\" >-1.856716</td>\n",
       "      <td id=\"T_7d12a_row22_col1\" class=\"data row22 col1\" >nan</td>\n",
       "    </tr>\n",
       "  </tbody>\n",
       "</table>\n"
      ],
      "text/plain": [
       "<pandas.io.formats.style.Styler at 0x1e72e1ecc70>"
      ]
     },
     "execution_count": 43,
     "metadata": {},
     "output_type": "execute_result"
    }
   ],
   "source": [
    "scl_flt.pivot_table(values = \"dif_min\",index=\"OPERA\",columns=\"TIPOVUELO\",aggfunc=(np.mean)).style.applymap(highlight)"
   ]
  },
  {
   "cell_type": "code",
   "execution_count": 44,
   "id": "7068e6d7",
   "metadata": {},
   "outputs": [
    {
     "data": {
      "image/png": "[encoded data removed]",
      "text/plain": [
       "<Figure size 432x288 with 1 Axes>"
      ]
     },
     "metadata": {
      "needs_background": "light"
     },
     "output_type": "display_data"
    }
   ],
   "source": [
    "ax = sns.boxplot(x=\"OPERA\", y=\"dif_min\", data=scl_flt, showfliers = False)\n",
    "ax.tick_params(axis='x', rotation=90)"
   ]
  },
  {
   "cell_type": "markdown",
   "id": "9239b747",
   "metadata": {},
   "source": [
    "The days of the week have really similar values on the mean, the difference between them is not meaningful."
   ]
  },
  {
   "cell_type": "code",
   "execution_count": 45,
   "id": "6d6f06de",
   "metadata": {
    "scrolled": true
   },
   "outputs": [
    {
     "data": {
      "text/html": [
       "<div>\n",
       "<style scoped>\n",
       "    .dataframe tbody tr th:only-of-type {\n",
       "        vertical-align: middle;\n",
       "    }\n",
       "\n",
       "    .dataframe tbody tr th {\n",
       "        vertical-align: top;\n",
       "    }\n",
       "\n",
       "    .dataframe thead th {\n",
       "        text-align: right;\n",
       "    }\n",
       "</style>\n",
       "<table border=\"1\" class=\"dataframe\">\n",
       "  <thead>\n",
       "    <tr style=\"text-align: right;\">\n",
       "      <th>DIANOM</th>\n",
       "      <th>Domingo</th>\n",
       "      <th>Jueves</th>\n",
       "      <th>Lunes</th>\n",
       "      <th>Martes</th>\n",
       "      <th>Miercoles</th>\n",
       "      <th>Sabado</th>\n",
       "      <th>Viernes</th>\n",
       "    </tr>\n",
       "  </thead>\n",
       "  <tbody>\n",
       "    <tr>\n",
       "      <th>dif_min</th>\n",
       "      <td>7.930788</td>\n",
       "      <td>9.52112</td>\n",
       "      <td>9.980653</td>\n",
       "      <td>8.324777</td>\n",
       "      <td>8.540835</td>\n",
       "      <td>8.315014</td>\n",
       "      <td>10.891469</td>\n",
       "    </tr>\n",
       "  </tbody>\n",
       "</table>\n",
       "</div>"
      ],
      "text/plain": [
       "DIANOM    Domingo   Jueves     Lunes    Martes  Miercoles    Sabado    Viernes\n",
       "dif_min  7.930788  9.52112  9.980653  8.324777   8.540835  8.315014  10.891469"
      ]
     },
     "execution_count": 45,
     "metadata": {},
     "output_type": "execute_result"
    }
   ],
   "source": [
    "scl_flt.pivot_table(values = \"dif_min\",columns=\"DIANOM\",aggfunc=(np.mean))"
   ]
  },
  {
   "cell_type": "markdown",
   "id": "8e707ade",
   "metadata": {},
   "source": [
    "The behavior of period of the day is similar to the days of the week, but in this case we can see that the morning have a difference between the afternoon and the night, maybe this is important  given that a delayed flight on the morning is going to cause a delay flight on the afternoon. This is not always the case but in the pivot table that computes the Airline and the period of the day, we can see that the same Airline in a different period can have differents performances and delays, like in jetsmart, Grupo LATAM, Avianca, SkyAirline"
   ]
  },
  {
   "cell_type": "code",
   "execution_count": 46,
   "id": "e2e9f01b",
   "metadata": {
    "scrolled": true
   },
   "outputs": [
    {
     "data": {
      "text/html": [
       "<div>\n",
       "<style scoped>\n",
       "    .dataframe tbody tr th:only-of-type {\n",
       "        vertical-align: middle;\n",
       "    }\n",
       "\n",
       "    .dataframe tbody tr th {\n",
       "        vertical-align: top;\n",
       "    }\n",
       "\n",
       "    .dataframe thead th {\n",
       "        text-align: right;\n",
       "    }\n",
       "</style>\n",
       "<table border=\"1\" class=\"dataframe\">\n",
       "  <thead>\n",
       "    <tr style=\"text-align: right;\">\n",
       "      <th></th>\n",
       "      <th>dif_min</th>\n",
       "    </tr>\n",
       "    <tr>\n",
       "      <th>periodo_dia</th>\n",
       "      <th></th>\n",
       "    </tr>\n",
       "  </thead>\n",
       "  <tbody>\n",
       "    <tr>\n",
       "      <th>manana</th>\n",
       "      <td>8.061534</td>\n",
       "    </tr>\n",
       "    <tr>\n",
       "      <th>noche</th>\n",
       "      <td>9.694086</td>\n",
       "    </tr>\n",
       "    <tr>\n",
       "      <th>tarde</th>\n",
       "      <td>9.757155</td>\n",
       "    </tr>\n",
       "  </tbody>\n",
       "</table>\n",
       "</div>"
      ],
      "text/plain": [
       "              dif_min\n",
       "periodo_dia          \n",
       "manana       8.061534\n",
       "noche        9.694086\n",
       "tarde        9.757155"
      ]
     },
     "execution_count": 46,
     "metadata": {},
     "output_type": "execute_result"
    }
   ],
   "source": [
    "scl_flt.pivot_table(values = \"dif_min\",index=\"periodo_dia\",aggfunc=(np.mean))"
   ]
  },
  {
   "cell_type": "code",
   "execution_count": 47,
   "id": "7f3bfc94",
   "metadata": {
    "scrolled": false
   },
   "outputs": [
    {
     "data": {
      "text/html": [
       "<style type=\"text/css\">\n",
       "#T_3346f_row0_col0, #T_3346f_row1_col1, #T_3346f_row3_col2, #T_3346f_row4_col0, #T_3346f_row4_col2, #T_3346f_row5_col1, #T_3346f_row6_col1, #T_3346f_row6_col2, #T_3346f_row7_col0, #T_3346f_row7_col1, #T_3346f_row8_col2, #T_3346f_row9_col0, #T_3346f_row9_col1, #T_3346f_row9_col2, #T_3346f_row10_col1, #T_3346f_row11_col0, #T_3346f_row11_col1, #T_3346f_row12_col0, #T_3346f_row12_col2, #T_3346f_row13_col0, #T_3346f_row13_col2, #T_3346f_row14_col0, #T_3346f_row14_col1, #T_3346f_row14_col2, #T_3346f_row15_col0, #T_3346f_row15_col2, #T_3346f_row16_col0, #T_3346f_row18_col1, #T_3346f_row18_col2, #T_3346f_row21_col0, #T_3346f_row21_col2, #T_3346f_row22_col1 {\n",
       "  color: green;\n",
       "}\n",
       "#T_3346f_row0_col1, #T_3346f_row0_col2, #T_3346f_row1_col0, #T_3346f_row3_col0, #T_3346f_row3_col1, #T_3346f_row4_col1, #T_3346f_row5_col0, #T_3346f_row5_col2, #T_3346f_row6_col0, #T_3346f_row8_col0, #T_3346f_row8_col1, #T_3346f_row12_col1, #T_3346f_row13_col1, #T_3346f_row15_col1, #T_3346f_row16_col1, #T_3346f_row16_col2, #T_3346f_row18_col0, #T_3346f_row19_col0, #T_3346f_row20_col0, #T_3346f_row20_col1, #T_3346f_row21_col1, #T_3346f_row22_col0 {\n",
       "  color: black;\n",
       "}\n",
       "#T_3346f_row1_col2, #T_3346f_row2_col0, #T_3346f_row2_col1, #T_3346f_row2_col2, #T_3346f_row7_col2, #T_3346f_row10_col0, #T_3346f_row10_col2, #T_3346f_row11_col2, #T_3346f_row17_col0, #T_3346f_row17_col1, #T_3346f_row17_col2, #T_3346f_row19_col1, #T_3346f_row19_col2, #T_3346f_row20_col2, #T_3346f_row22_col2 {\n",
       "  color: red;\n",
       "}\n",
       "</style>\n",
       "<table id=\"T_3346f\">\n",
       "  <thead>\n",
       "    <tr>\n",
       "      <th class=\"index_name level0\" >periodo_dia</th>\n",
       "      <th id=\"T_3346f_level0_col0\" class=\"col_heading level0 col0\" >manana</th>\n",
       "      <th id=\"T_3346f_level0_col1\" class=\"col_heading level0 col1\" >noche</th>\n",
       "      <th id=\"T_3346f_level0_col2\" class=\"col_heading level0 col2\" >tarde</th>\n",
       "    </tr>\n",
       "    <tr>\n",
       "      <th class=\"index_name level0\" >OPERA</th>\n",
       "      <th class=\"blank col0\" >&nbsp;</th>\n",
       "      <th class=\"blank col1\" >&nbsp;</th>\n",
       "      <th class=\"blank col2\" >&nbsp;</th>\n",
       "    </tr>\n",
       "  </thead>\n",
       "  <tbody>\n",
       "    <tr>\n",
       "      <th id=\"T_3346f_level0_row0\" class=\"row_heading level0 row0\" >Aerolineas Argentinas</th>\n",
       "      <td id=\"T_3346f_row0_col0\" class=\"data row0 col0\" >6.290832</td>\n",
       "      <td id=\"T_3346f_row0_col1\" class=\"data row0 col1\" >14.349040</td>\n",
       "      <td id=\"T_3346f_row0_col2\" class=\"data row0 col2\" >12.428571</td>\n",
       "    </tr>\n",
       "    <tr>\n",
       "      <th id=\"T_3346f_level0_row1\" class=\"row_heading level0 row1\" >Aeromexico</th>\n",
       "      <td id=\"T_3346f_row1_col0\" class=\"data row1 col0\" >nan</td>\n",
       "      <td id=\"T_3346f_row1_col1\" class=\"data row1 col1\" >-2.756447</td>\n",
       "      <td id=\"T_3346f_row1_col2\" class=\"data row1 col2\" >43.000000</td>\n",
       "    </tr>\n",
       "    <tr>\n",
       "      <th id=\"T_3346f_level0_row2\" class=\"row_heading level0 row2\" >Air Canada</th>\n",
       "      <td id=\"T_3346f_row2_col0\" class=\"data row2 col0\" >21.879518</td>\n",
       "      <td id=\"T_3346f_row2_col1\" class=\"data row2 col1\" >18.328571</td>\n",
       "      <td id=\"T_3346f_row2_col2\" class=\"data row2 col2\" >28.904762</td>\n",
       "    </tr>\n",
       "    <tr>\n",
       "      <th id=\"T_3346f_level0_row3\" class=\"row_heading level0 row3\" >Air France</th>\n",
       "      <td id=\"T_3346f_row3_col0\" class=\"data row3 col0\" >13.000000</td>\n",
       "      <td id=\"T_3346f_row3_col1\" class=\"data row3 col1\" >nan</td>\n",
       "      <td id=\"T_3346f_row3_col2\" class=\"data row3 col2\" >1.334270</td>\n",
       "    </tr>\n",
       "    <tr>\n",
       "      <th id=\"T_3346f_level0_row4\" class=\"row_heading level0 row4\" >Alitalia</th>\n",
       "      <td id=\"T_3346f_row4_col0\" class=\"data row4 col0\" >3.837662</td>\n",
       "      <td id=\"T_3346f_row4_col1\" class=\"data row4 col1\" >nan</td>\n",
       "      <td id=\"T_3346f_row4_col2\" class=\"data row4 col2\" >7.428571</td>\n",
       "    </tr>\n",
       "    <tr>\n",
       "      <th id=\"T_3346f_level0_row5\" class=\"row_heading level0 row5\" >American Airlines</th>\n",
       "      <td id=\"T_3346f_row5_col0\" class=\"data row5 col0\" >nan</td>\n",
       "      <td id=\"T_3346f_row5_col1\" class=\"data row5 col1\" >0.277411</td>\n",
       "      <td id=\"T_3346f_row5_col2\" class=\"data row5 col2\" >nan</td>\n",
       "    </tr>\n",
       "    <tr>\n",
       "      <th id=\"T_3346f_level0_row6\" class=\"row_heading level0 row6\" >Austral</th>\n",
       "      <td id=\"T_3346f_row6_col0\" class=\"data row6 col0\" >nan</td>\n",
       "      <td id=\"T_3346f_row6_col1\" class=\"data row6 col1\" >2.833333</td>\n",
       "      <td id=\"T_3346f_row6_col2\" class=\"data row6 col2\" >9.181818</td>\n",
       "    </tr>\n",
       "    <tr>\n",
       "      <th id=\"T_3346f_level0_row7\" class=\"row_heading level0 row7\" >Avianca</th>\n",
       "      <td id=\"T_3346f_row7_col0\" class=\"data row7 col0\" >9.031088</td>\n",
       "      <td id=\"T_3346f_row7_col1\" class=\"data row7 col1\" >-0.415459</td>\n",
       "      <td id=\"T_3346f_row7_col2\" class=\"data row7 col2\" >20.986339</td>\n",
       "    </tr>\n",
       "    <tr>\n",
       "      <th id=\"T_3346f_level0_row8\" class=\"row_heading level0 row8\" >British Airways</th>\n",
       "      <td id=\"T_3346f_row8_col0\" class=\"data row8 col0\" >nan</td>\n",
       "      <td id=\"T_3346f_row8_col1\" class=\"data row8 col1\" >nan</td>\n",
       "      <td id=\"T_3346f_row8_col2\" class=\"data row8 col2\" >7.560976</td>\n",
       "    </tr>\n",
       "    <tr>\n",
       "      <th id=\"T_3346f_level0_row9\" class=\"row_heading level0 row9\" >Copa Air</th>\n",
       "      <td id=\"T_3346f_row9_col0\" class=\"data row9 col0\" >0.304609</td>\n",
       "      <td id=\"T_3346f_row9_col1\" class=\"data row9 col1\" >0.476103</td>\n",
       "      <td id=\"T_3346f_row9_col2\" class=\"data row9 col2\" >-1.041825</td>\n",
       "    </tr>\n",
       "    <tr>\n",
       "      <th id=\"T_3346f_level0_row10\" class=\"row_heading level0 row10\" >Delta Air</th>\n",
       "      <td id=\"T_3346f_row10_col0\" class=\"data row10 col0\" >40.000000</td>\n",
       "      <td id=\"T_3346f_row10_col1\" class=\"data row10 col1\" >-0.329577</td>\n",
       "      <td id=\"T_3346f_row10_col2\" class=\"data row10 col2\" >59.000000</td>\n",
       "    </tr>\n",
       "    <tr>\n",
       "      <th id=\"T_3346f_level0_row11\" class=\"row_heading level0 row11\" >Gol Trans</th>\n",
       "      <td id=\"T_3346f_row11_col0\" class=\"data row11 col0\" >-5.003922</td>\n",
       "      <td id=\"T_3346f_row11_col1\" class=\"data row11 col1\" >8.650485</td>\n",
       "      <td id=\"T_3346f_row11_col2\" class=\"data row11 col2\" >22.290179</td>\n",
       "    </tr>\n",
       "    <tr>\n",
       "      <th id=\"T_3346f_level0_row12\" class=\"row_heading level0 row12\" >Grupo LATAM</th>\n",
       "      <td id=\"T_3346f_row12_col0\" class=\"data row12 col0\" >9.088274</td>\n",
       "      <td id=\"T_3346f_row12_col1\" class=\"data row12 col1\" >10.843851</td>\n",
       "      <td id=\"T_3346f_row12_col2\" class=\"data row12 col2\" >8.906409</td>\n",
       "    </tr>\n",
       "    <tr>\n",
       "      <th id=\"T_3346f_level0_row13\" class=\"row_heading level0 row13\" >Iberia</th>\n",
       "      <td id=\"T_3346f_row13_col0\" class=\"data row13 col0\" >6.333333</td>\n",
       "      <td id=\"T_3346f_row13_col1\" class=\"data row13 col1\" >nan</td>\n",
       "      <td id=\"T_3346f_row13_col2\" class=\"data row13 col2\" >3.595588</td>\n",
       "    </tr>\n",
       "    <tr>\n",
       "      <th id=\"T_3346f_level0_row14\" class=\"row_heading level0 row14\" >JetSmart SPA</th>\n",
       "      <td id=\"T_3346f_row14_col0\" class=\"data row14 col0\" >4.381395</td>\n",
       "      <td id=\"T_3346f_row14_col1\" class=\"data row14 col1\" >9.659091</td>\n",
       "      <td id=\"T_3346f_row14_col2\" class=\"data row14 col2\" >9.404187</td>\n",
       "    </tr>\n",
       "    <tr>\n",
       "      <th id=\"T_3346f_level0_row15\" class=\"row_heading level0 row15\" >K.L.M.</th>\n",
       "      <td id=\"T_3346f_row15_col0\" class=\"data row15 col0\" >-1.863309</td>\n",
       "      <td id=\"T_3346f_row15_col1\" class=\"data row15 col1\" >nan</td>\n",
       "      <td id=\"T_3346f_row15_col2\" class=\"data row15 col2\" >5.250000</td>\n",
       "    </tr>\n",
       "    <tr>\n",
       "      <th id=\"T_3346f_level0_row16\" class=\"row_heading level0 row16\" >Lacsa</th>\n",
       "      <td id=\"T_3346f_row16_col0\" class=\"data row16 col0\" >4.880435</td>\n",
       "      <td id=\"T_3346f_row16_col1\" class=\"data row16 col1\" >nan</td>\n",
       "      <td id=\"T_3346f_row16_col2\" class=\"data row16 col2\" >nan</td>\n",
       "    </tr>\n",
       "    <tr>\n",
       "      <th id=\"T_3346f_level0_row17\" class=\"row_heading level0 row17\" >Latin American Wings</th>\n",
       "      <td id=\"T_3346f_row17_col0\" class=\"data row17 col0\" >22.385000</td>\n",
       "      <td id=\"T_3346f_row17_col1\" class=\"data row17 col1\" >29.347603</td>\n",
       "      <td id=\"T_3346f_row17_col2\" class=\"data row17 col2\" >21.538776</td>\n",
       "    </tr>\n",
       "    <tr>\n",
       "      <th id=\"T_3346f_level0_row18\" class=\"row_heading level0 row18\" >Oceanair Linhas Aereas</th>\n",
       "      <td id=\"T_3346f_row18_col0\" class=\"data row18 col0\" >nan</td>\n",
       "      <td id=\"T_3346f_row18_col1\" class=\"data row18 col1\" >6.778626</td>\n",
       "      <td id=\"T_3346f_row18_col2\" class=\"data row18 col2\" >5.952703</td>\n",
       "    </tr>\n",
       "    <tr>\n",
       "      <th id=\"T_3346f_level0_row19\" class=\"row_heading level0 row19\" >Plus Ultra Lineas Aereas</th>\n",
       "      <td id=\"T_3346f_row19_col0\" class=\"data row19 col0\" >nan</td>\n",
       "      <td id=\"T_3346f_row19_col1\" class=\"data row19 col1\" >30.555556</td>\n",
       "      <td id=\"T_3346f_row19_col2\" class=\"data row19 col2\" >44.750000</td>\n",
       "    </tr>\n",
       "    <tr>\n",
       "      <th id=\"T_3346f_level0_row20\" class=\"row_heading level0 row20\" >Qantas Airways</th>\n",
       "      <td id=\"T_3346f_row20_col0\" class=\"data row20 col0\" >nan</td>\n",
       "      <td id=\"T_3346f_row20_col1\" class=\"data row20 col1\" >nan</td>\n",
       "      <td id=\"T_3346f_row20_col2\" class=\"data row20 col2\" >26.835897</td>\n",
       "    </tr>\n",
       "    <tr>\n",
       "      <th id=\"T_3346f_level0_row21\" class=\"row_heading level0 row21\" >Sky Airline</th>\n",
       "      <td id=\"T_3346f_row21_col0\" class=\"data row21 col0\" >5.823520</td>\n",
       "      <td id=\"T_3346f_row21_col1\" class=\"data row21 col1\" >11.049316</td>\n",
       "      <td id=\"T_3346f_row21_col2\" class=\"data row21 col2\" >9.526483</td>\n",
       "    </tr>\n",
       "    <tr>\n",
       "      <th id=\"T_3346f_level0_row22\" class=\"row_heading level0 row22\" >United Airlines</th>\n",
       "      <td id=\"T_3346f_row22_col0\" class=\"data row22 col0\" >nan</td>\n",
       "      <td id=\"T_3346f_row22_col1\" class=\"data row22 col1\" >-1.931138</td>\n",
       "      <td id=\"T_3346f_row22_col2\" class=\"data row22 col2\" >23.000000</td>\n",
       "    </tr>\n",
       "  </tbody>\n",
       "</table>\n"
      ],
      "text/plain": [
       "<pandas.io.formats.style.Styler at 0x1e72e97bb80>"
      ]
     },
     "execution_count": 47,
     "metadata": {},
     "output_type": "execute_result"
    }
   ],
   "source": [
    "scl_flt.pivot_table(values = \"dif_min\",index=\"OPERA\",columns=\"periodo_dia\",aggfunc=(np.mean)).style.applymap(highlight)"
   ]
  },
  {
   "cell_type": "markdown",
   "id": "2613ed2d",
   "metadata": {},
   "source": [
    "The high season and the month can influence the delays of the flights, in all the cases the high season has a bigger value, specially in months like July and December.\n",
    "\n",
    "We can see the same effect when computing the relation between the high season and the Airlines. It is common to see that in high season the airlines take more time to depart."
   ]
  },
  {
   "cell_type": "code",
   "execution_count": 48,
   "id": "469f432a",
   "metadata": {},
   "outputs": [
    {
     "data": {
      "text/html": [
       "<div>\n",
       "<style scoped>\n",
       "    .dataframe tbody tr th:only-of-type {\n",
       "        vertical-align: middle;\n",
       "    }\n",
       "\n",
       "    .dataframe tbody tr th {\n",
       "        vertical-align: top;\n",
       "    }\n",
       "\n",
       "    .dataframe thead th {\n",
       "        text-align: right;\n",
       "    }\n",
       "</style>\n",
       "<table border=\"1\" class=\"dataframe\">\n",
       "  <thead>\n",
       "    <tr style=\"text-align: right;\">\n",
       "      <th></th>\n",
       "      <th>dif_min</th>\n",
       "    </tr>\n",
       "    <tr>\n",
       "      <th>temporada_alta</th>\n",
       "      <th></th>\n",
       "    </tr>\n",
       "  </thead>\n",
       "  <tbody>\n",
       "    <tr>\n",
       "      <th>0</th>\n",
       "      <td>8.844418</td>\n",
       "    </tr>\n",
       "    <tr>\n",
       "      <th>1</th>\n",
       "      <td>9.662600</td>\n",
       "    </tr>\n",
       "  </tbody>\n",
       "</table>\n",
       "</div>"
      ],
      "text/plain": [
       "                 dif_min\n",
       "temporada_alta          \n",
       "0               8.844418\n",
       "1               9.662600"
      ]
     },
     "execution_count": 48,
     "metadata": {},
     "output_type": "execute_result"
    }
   ],
   "source": [
    "scl_flt.pivot_table(values = \"dif_min\",index=\"temporada_alta\",aggfunc=(np.mean))"
   ]
  },
  {
   "cell_type": "code",
   "execution_count": 49,
   "id": "1e50257c",
   "metadata": {},
   "outputs": [
    {
     "data": {
      "text/html": [
       "<div>\n",
       "<style scoped>\n",
       "    .dataframe tbody tr th:only-of-type {\n",
       "        vertical-align: middle;\n",
       "    }\n",
       "\n",
       "    .dataframe tbody tr th {\n",
       "        vertical-align: top;\n",
       "    }\n",
       "\n",
       "    .dataframe thead th {\n",
       "        text-align: right;\n",
       "    }\n",
       "</style>\n",
       "<table border=\"1\" class=\"dataframe\">\n",
       "  <thead>\n",
       "    <tr style=\"text-align: right;\">\n",
       "      <th>MES</th>\n",
       "      <th>1</th>\n",
       "      <th>2</th>\n",
       "      <th>3</th>\n",
       "      <th>4</th>\n",
       "      <th>5</th>\n",
       "      <th>6</th>\n",
       "      <th>7</th>\n",
       "      <th>8</th>\n",
       "      <th>9</th>\n",
       "      <th>10</th>\n",
       "      <th>11</th>\n",
       "      <th>12</th>\n",
       "    </tr>\n",
       "    <tr>\n",
       "      <th>temporada_alta</th>\n",
       "      <th></th>\n",
       "      <th></th>\n",
       "      <th></th>\n",
       "      <th></th>\n",
       "      <th></th>\n",
       "      <th></th>\n",
       "      <th></th>\n",
       "      <th></th>\n",
       "      <th></th>\n",
       "      <th></th>\n",
       "      <th></th>\n",
       "      <th></th>\n",
       "    </tr>\n",
       "  </thead>\n",
       "  <tbody>\n",
       "    <tr>\n",
       "      <th>0</th>\n",
       "      <td>NaN</td>\n",
       "      <td>NaN</td>\n",
       "      <td>5.660711</td>\n",
       "      <td>5.773506</td>\n",
       "      <td>7.521756</td>\n",
       "      <td>8.542461</td>\n",
       "      <td>14.691698</td>\n",
       "      <td>8.616818</td>\n",
       "      <td>9.933929</td>\n",
       "      <td>11.295922</td>\n",
       "      <td>9.342763</td>\n",
       "      <td>10.363101</td>\n",
       "    </tr>\n",
       "    <tr>\n",
       "      <th>1</th>\n",
       "      <td>7.769646</td>\n",
       "      <td>7.537853</td>\n",
       "      <td>7.020566</td>\n",
       "      <td>NaN</td>\n",
       "      <td>NaN</td>\n",
       "      <td>NaN</td>\n",
       "      <td>16.011654</td>\n",
       "      <td>NaN</td>\n",
       "      <td>7.693356</td>\n",
       "      <td>NaN</td>\n",
       "      <td>NaN</td>\n",
       "      <td>13.088261</td>\n",
       "    </tr>\n",
       "  </tbody>\n",
       "</table>\n",
       "</div>"
      ],
      "text/plain": [
       "MES                   1         2         3         4         5         6   \\\n",
       "temporada_alta                                                               \n",
       "0                    NaN       NaN  5.660711  5.773506  7.521756  8.542461   \n",
       "1               7.769646  7.537853  7.020566       NaN       NaN       NaN   \n",
       "\n",
       "MES                    7         8         9          10        11         12  \n",
       "temporada_alta                                                                 \n",
       "0               14.691698  8.616818  9.933929  11.295922  9.342763  10.363101  \n",
       "1               16.011654       NaN  7.693356        NaN       NaN  13.088261  "
      ]
     },
     "execution_count": 49,
     "metadata": {},
     "output_type": "execute_result"
    }
   ],
   "source": [
    "scl_flt.pivot_table(values = \"dif_min\",index=\"temporada_alta\",columns=\"MES\",aggfunc=(np.mean))"
   ]
  },
  {
   "cell_type": "code",
   "execution_count": 50,
   "id": "e9c173f1",
   "metadata": {
    "scrolled": false
   },
   "outputs": [
    {
     "data": {
      "image/png": "[encoded data removed]",
      "text/plain": [
       "<Figure size 432x288 with 1 Axes>"
      ]
     },
     "metadata": {
      "needs_background": "light"
     },
     "output_type": "display_data"
    }
   ],
   "source": [
    "ax = sns.boxplot(x=\"MES\", y=\"dif_min\", data=scl_flt, showfliers = False)\n",
    "ax.tick_params(axis='x', rotation=90)"
   ]
  },
  {
   "cell_type": "code",
   "execution_count": 51,
   "id": "22f08a6d",
   "metadata": {
    "scrolled": false
   },
   "outputs": [
    {
     "data": {
      "text/html": [
       "<style type=\"text/css\">\n",
       "#T_7382c_row0_col0, #T_7382c_row1_col0, #T_7382c_row1_col1, #T_7382c_row3_col0, #T_7382c_row3_col1, #T_7382c_row4_col0, #T_7382c_row4_col1, #T_7382c_row5_col0, #T_7382c_row5_col1, #T_7382c_row6_col0, #T_7382c_row8_col0, #T_7382c_row9_col0, #T_7382c_row9_col1, #T_7382c_row10_col0, #T_7382c_row10_col1, #T_7382c_row11_col1, #T_7382c_row12_col0, #T_7382c_row13_col0, #T_7382c_row13_col1, #T_7382c_row14_col0, #T_7382c_row14_col1, #T_7382c_row15_col0, #T_7382c_row15_col1, #T_7382c_row16_col0, #T_7382c_row16_col1, #T_7382c_row18_col0, #T_7382c_row18_col1, #T_7382c_row21_col0, #T_7382c_row21_col1, #T_7382c_row22_col0, #T_7382c_row22_col1 {\n",
       "  color: green;\n",
       "}\n",
       "#T_7382c_row0_col1, #T_7382c_row6_col1, #T_7382c_row7_col0, #T_7382c_row7_col1, #T_7382c_row8_col1, #T_7382c_row11_col0, #T_7382c_row12_col1 {\n",
       "  color: black;\n",
       "}\n",
       "#T_7382c_row2_col0, #T_7382c_row2_col1, #T_7382c_row17_col0, #T_7382c_row17_col1, #T_7382c_row19_col0, #T_7382c_row19_col1, #T_7382c_row20_col0, #T_7382c_row20_col1 {\n",
       "  color: red;\n",
       "}\n",
       "</style>\n",
       "<table id=\"T_7382c\">\n",
       "  <thead>\n",
       "    <tr>\n",
       "      <th class=\"index_name level0\" >temporada_alta</th>\n",
       "      <th id=\"T_7382c_level0_col0\" class=\"col_heading level0 col0\" >0</th>\n",
       "      <th id=\"T_7382c_level0_col1\" class=\"col_heading level0 col1\" >1</th>\n",
       "    </tr>\n",
       "    <tr>\n",
       "      <th class=\"index_name level0\" >OPERA</th>\n",
       "      <th class=\"blank col0\" >&nbsp;</th>\n",
       "      <th class=\"blank col1\" >&nbsp;</th>\n",
       "    </tr>\n",
       "  </thead>\n",
       "  <tbody>\n",
       "    <tr>\n",
       "      <th id=\"T_7382c_level0_row0\" class=\"row_heading level0 row0\" >Aerolineas Argentinas</th>\n",
       "      <td id=\"T_7382c_row0_col0\" class=\"data row0 col0\" >9.861351</td>\n",
       "      <td id=\"T_7382c_row0_col1\" class=\"data row0 col1\" >10.362657</td>\n",
       "    </tr>\n",
       "    <tr>\n",
       "      <th id=\"T_7382c_level0_row1\" class=\"row_heading level0 row1\" >Aeromexico</th>\n",
       "      <td id=\"T_7382c_row1_col0\" class=\"data row1 col0\" >-2.639344</td>\n",
       "      <td id=\"T_7382c_row1_col1\" class=\"data row1 col1\" >-2.168224</td>\n",
       "    </tr>\n",
       "    <tr>\n",
       "      <th id=\"T_7382c_level0_row2\" class=\"row_heading level0 row2\" >Air Canada</th>\n",
       "      <td id=\"T_7382c_row2_col0\" class=\"data row2 col0\" >16.466844</td>\n",
       "      <td id=\"T_7382c_row2_col1\" class=\"data row2 col1\" >35.829787</td>\n",
       "    </tr>\n",
       "    <tr>\n",
       "      <th id=\"T_7382c_level0_row3\" class=\"row_heading level0 row3\" >Air France</th>\n",
       "      <td id=\"T_7382c_row3_col0\" class=\"data row3 col0\" >0.366935</td>\n",
       "      <td id=\"T_7382c_row3_col1\" class=\"data row3 col1\" >3.727273</td>\n",
       "    </tr>\n",
       "    <tr>\n",
       "      <th id=\"T_7382c_level0_row4\" class=\"row_heading level0 row4\" >Alitalia</th>\n",
       "      <td id=\"T_7382c_row4_col0\" class=\"data row4 col0\" >4.342697</td>\n",
       "      <td id=\"T_7382c_row4_col1\" class=\"data row4 col1\" >7.382716</td>\n",
       "    </tr>\n",
       "    <tr>\n",
       "      <th id=\"T_7382c_level0_row5\" class=\"row_heading level0 row5\" >American Airlines</th>\n",
       "      <td id=\"T_7382c_row5_col0\" class=\"data row5 col0\" >-0.773092</td>\n",
       "      <td id=\"T_7382c_row5_col1\" class=\"data row5 col1\" >2.297297</td>\n",
       "    </tr>\n",
       "    <tr>\n",
       "      <th id=\"T_7382c_level0_row6\" class=\"row_heading level0 row6\" >Austral</th>\n",
       "      <td id=\"T_7382c_row6_col0\" class=\"data row6 col0\" >5.000000</td>\n",
       "      <td id=\"T_7382c_row6_col1\" class=\"data row6 col1\" >10.173913</td>\n",
       "    </tr>\n",
       "    <tr>\n",
       "      <th id=\"T_7382c_level0_row7\" class=\"row_heading level0 row7\" >Avianca</th>\n",
       "      <td id=\"T_7382c_row7_col0\" class=\"data row7 col0\" >11.398970</td>\n",
       "      <td id=\"T_7382c_row7_col1\" class=\"data row7 col1\" >10.578667</td>\n",
       "    </tr>\n",
       "    <tr>\n",
       "      <th id=\"T_7382c_level0_row8\" class=\"row_heading level0 row8\" >British Airways</th>\n",
       "      <td id=\"T_7382c_row8_col0\" class=\"data row8 col0\" >5.950355</td>\n",
       "      <td id=\"T_7382c_row8_col1\" class=\"data row8 col1\" >11.109375</td>\n",
       "    </tr>\n",
       "    <tr>\n",
       "      <th id=\"T_7382c_level0_row9\" class=\"row_heading level0 row9\" >Copa Air</th>\n",
       "      <td id=\"T_7382c_row9_col0\" class=\"data row9 col0\" >0.234060</td>\n",
       "      <td id=\"T_7382c_row9_col1\" class=\"data row9 col1\" >0.173486</td>\n",
       "    </tr>\n",
       "    <tr>\n",
       "      <th id=\"T_7382c_level0_row10\" class=\"row_heading level0 row10\" >Delta Air</th>\n",
       "      <td id=\"T_7382c_row10_col0\" class=\"data row10 col0\" >-0.606426</td>\n",
       "      <td id=\"T_7382c_row10_col1\" class=\"data row10 col1\" >1.761468</td>\n",
       "    </tr>\n",
       "    <tr>\n",
       "      <th id=\"T_7382c_level0_row11\" class=\"row_heading level0 row11\" >Gol Trans</th>\n",
       "      <td id=\"T_7382c_row11_col0\" class=\"data row11 col0\" >13.616732</td>\n",
       "      <td id=\"T_7382c_row11_col1\" class=\"data row11 col1\" >8.910959</td>\n",
       "    </tr>\n",
       "    <tr>\n",
       "      <th id=\"T_7382c_level0_row12\" class=\"row_heading level0 row12\" >Grupo LATAM</th>\n",
       "      <td id=\"T_7382c_row12_col0\" class=\"data row12 col0\" >9.064673</td>\n",
       "      <td id=\"T_7382c_row12_col1\" class=\"data row12 col1\" >10.296431</td>\n",
       "    </tr>\n",
       "    <tr>\n",
       "      <th id=\"T_7382c_level0_row13\" class=\"row_heading level0 row13\" >Iberia</th>\n",
       "      <td id=\"T_7382c_row13_col0\" class=\"data row13 col0\" >3.208000</td>\n",
       "      <td id=\"T_7382c_row13_col1\" class=\"data row13 col1\" >6.660714</td>\n",
       "    </tr>\n",
       "    <tr>\n",
       "      <th id=\"T_7382c_level0_row14\" class=\"row_heading level0 row14\" >JetSmart SPA</th>\n",
       "      <td id=\"T_7382c_row14_col0\" class=\"data row14 col0\" >7.446753</td>\n",
       "      <td id=\"T_7382c_row14_col1\" class=\"data row14 col1\" >7.430769</td>\n",
       "    </tr>\n",
       "    <tr>\n",
       "      <th id=\"T_7382c_level0_row15\" class=\"row_heading level0 row15\" >K.L.M.</th>\n",
       "      <td id=\"T_7382c_row15_col0\" class=\"data row15 col0\" >0.325581</td>\n",
       "      <td id=\"T_7382c_row15_col1\" class=\"data row15 col1\" >3.455696</td>\n",
       "    </tr>\n",
       "    <tr>\n",
       "      <th id=\"T_7382c_level0_row16\" class=\"row_heading level0 row16\" >Lacsa</th>\n",
       "      <td id=\"T_7382c_row16_col0\" class=\"data row16 col0\" >5.000000</td>\n",
       "      <td id=\"T_7382c_row16_col1\" class=\"data row16 col1\" >4.685714</td>\n",
       "    </tr>\n",
       "    <tr>\n",
       "      <th id=\"T_7382c_level0_row17\" class=\"row_heading level0 row17\" >Latin American Wings</th>\n",
       "      <td id=\"T_7382c_row17_col0\" class=\"data row17 col0\" >23.861355</td>\n",
       "      <td id=\"T_7382c_row17_col1\" class=\"data row17 col1\" >26.677804</td>\n",
       "    </tr>\n",
       "    <tr>\n",
       "      <th id=\"T_7382c_level0_row18\" class=\"row_heading level0 row18\" >Oceanair Linhas Aereas</th>\n",
       "      <td id=\"T_7382c_row18_col0\" class=\"data row18 col0\" >7.574766</td>\n",
       "      <td id=\"T_7382c_row18_col1\" class=\"data row18 col1\" >2.276923</td>\n",
       "    </tr>\n",
       "    <tr>\n",
       "      <th id=\"T_7382c_level0_row19\" class=\"row_heading level0 row19\" >Plus Ultra Lineas Aereas</th>\n",
       "      <td id=\"T_7382c_row19_col0\" class=\"data row19 col0\" >32.733333</td>\n",
       "      <td id=\"T_7382c_row19_col1\" class=\"data row19 col1\" >30.105263</td>\n",
       "    </tr>\n",
       "    <tr>\n",
       "      <th id=\"T_7382c_level0_row20\" class=\"row_heading level0 row20\" >Qantas Airways</th>\n",
       "      <td id=\"T_7382c_row20_col0\" class=\"data row20 col0\" >22.086614</td>\n",
       "      <td id=\"T_7382c_row20_col1\" class=\"data row20 col1\" >35.705882</td>\n",
       "    </tr>\n",
       "    <tr>\n",
       "      <th id=\"T_7382c_level0_row21\" class=\"row_heading level0 row21\" >Sky Airline</th>\n",
       "      <td id=\"T_7382c_row21_col0\" class=\"data row21 col0\" >8.347540</td>\n",
       "      <td id=\"T_7382c_row21_col1\" class=\"data row21 col1\" >7.650370</td>\n",
       "    </tr>\n",
       "    <tr>\n",
       "      <th id=\"T_7382c_level0_row22\" class=\"row_heading level0 row22\" >United Airlines</th>\n",
       "      <td id=\"T_7382c_row22_col0\" class=\"data row22 col0\" >-3.169643</td>\n",
       "      <td id=\"T_7382c_row22_col1\" class=\"data row22 col1\" >0.792793</td>\n",
       "    </tr>\n",
       "  </tbody>\n",
       "</table>\n"
      ],
      "text/plain": [
       "<pandas.io.formats.style.Styler at 0x1e72e1ec070>"
      ]
     },
     "execution_count": 51,
     "metadata": {},
     "output_type": "execute_result"
    }
   ],
   "source": [
    "scl_flt.pivot_table(values = \"dif_min\",index=\"OPERA\",columns=\"temporada_alta\",aggfunc=(np.mean)).style.applymap(highlight)"
   ]
  },
  {
   "cell_type": "markdown",
   "id": "be61dee7",
   "metadata": {},
   "source": [
    "It is important to clarify that not always that a flight get delayed is due to the airline managment. But in this case look like a strong variable to take into account."
   ]
  },
  {
   "cell_type": "markdown",
   "id": "2d6cd2a2",
   "metadata": {},
   "source": [
    "\n",
    "Ahead you can see the mean of the destination sorted descending, showing us that mostly the international flights get delayed, corroborating that the type of the flight is an important variable. Putting these two variables on the models is not a good idea for two reasons, the first one is the collinearity and the second is the computation time that I am going to explain later.\n"
   ]
  },
  {
   "cell_type": "code",
   "execution_count": 52,
   "id": "dff1ce52",
   "metadata": {},
   "outputs": [],
   "source": [
    "tbl1 = scl_flt.pivot_table(values = \"dif_min\",index=\"Des-I\",aggfunc=(np.mean,\"count\")).sort_values(by=\"mean\", ascending=False)"
   ]
  },
  {
   "cell_type": "code",
   "execution_count": 53,
   "id": "47ea81eb",
   "metadata": {
    "scrolled": false
   },
   "outputs": [
    {
     "data": {
      "text/html": [
       "<div>\n",
       "<style scoped>\n",
       "    .dataframe tbody tr th:only-of-type {\n",
       "        vertical-align: middle;\n",
       "    }\n",
       "\n",
       "    .dataframe tbody tr th {\n",
       "        vertical-align: top;\n",
       "    }\n",
       "\n",
       "    .dataframe thead th {\n",
       "        text-align: right;\n",
       "    }\n",
       "</style>\n",
       "<table border=\"1\" class=\"dataframe\">\n",
       "  <thead>\n",
       "    <tr style=\"text-align: right;\">\n",
       "      <th></th>\n",
       "      <th>count</th>\n",
       "      <th>mean</th>\n",
       "    </tr>\n",
       "    <tr>\n",
       "      <th>Des-I</th>\n",
       "      <th></th>\n",
       "      <th></th>\n",
       "    </tr>\n",
       "  </thead>\n",
       "  <tbody>\n",
       "    <tr>\n",
       "      <th>YSSY</th>\n",
       "      <td>195</td>\n",
       "      <td>26.835897</td>\n",
       "    </tr>\n",
       "    <tr>\n",
       "      <th>YMML</th>\n",
       "      <td>38</td>\n",
       "      <td>19.631579</td>\n",
       "    </tr>\n",
       "    <tr>\n",
       "      <th>SAAR</th>\n",
       "      <td>136</td>\n",
       "      <td>19.022059</td>\n",
       "    </tr>\n",
       "    <tr>\n",
       "      <th>NZAA</th>\n",
       "      <td>361</td>\n",
       "      <td>18.246537</td>\n",
       "    </tr>\n",
       "    <tr>\n",
       "      <th>CYYZ</th>\n",
       "      <td>283</td>\n",
       "      <td>15.766784</td>\n",
       "    </tr>\n",
       "    <tr>\n",
       "      <th>SAME</th>\n",
       "      <td>1625</td>\n",
       "      <td>15.512615</td>\n",
       "    </tr>\n",
       "    <tr>\n",
       "      <th>SANT</th>\n",
       "      <td>38</td>\n",
       "      <td>14.263158</td>\n",
       "    </tr>\n",
       "    <tr>\n",
       "      <th>SANU</th>\n",
       "      <td>35</td>\n",
       "      <td>14.142857</td>\n",
       "    </tr>\n",
       "    <tr>\n",
       "      <th>SBGL</th>\n",
       "      <td>1434</td>\n",
       "      <td>14.135983</td>\n",
       "    </tr>\n",
       "    <tr>\n",
       "      <th>MDPC</th>\n",
       "      <td>54</td>\n",
       "      <td>14.092593</td>\n",
       "    </tr>\n",
       "    <tr>\n",
       "      <th>SLVR</th>\n",
       "      <td>120</td>\n",
       "      <td>14.066667</td>\n",
       "    </tr>\n",
       "    <tr>\n",
       "      <th>SACO</th>\n",
       "      <td>1023</td>\n",
       "      <td>13.811339</td>\n",
       "    </tr>\n",
       "    <tr>\n",
       "      <th>KLAX</th>\n",
       "      <td>155</td>\n",
       "      <td>13.264516</td>\n",
       "    </tr>\n",
       "    <tr>\n",
       "      <th>SGAS</th>\n",
       "      <td>232</td>\n",
       "      <td>12.969828</td>\n",
       "    </tr>\n",
       "    <tr>\n",
       "      <th>KMCO</th>\n",
       "      <td>34</td>\n",
       "      <td>12.852941</td>\n",
       "    </tr>\n",
       "    <tr>\n",
       "      <th>KJFK</th>\n",
       "      <td>383</td>\n",
       "      <td>12.456919</td>\n",
       "    </tr>\n",
       "    <tr>\n",
       "      <th>SKBO</th>\n",
       "      <td>1604</td>\n",
       "      <td>12.239401</td>\n",
       "    </tr>\n",
       "    <tr>\n",
       "      <th>SABE</th>\n",
       "      <td>3094</td>\n",
       "      <td>11.890110</td>\n",
       "    </tr>\n",
       "    <tr>\n",
       "      <th>SPJC</th>\n",
       "      <td>5270</td>\n",
       "      <td>11.736243</td>\n",
       "    </tr>\n",
       "    <tr>\n",
       "      <th>SCIP</th>\n",
       "      <td>452</td>\n",
       "      <td>11.617257</td>\n",
       "    </tr>\n",
       "    <tr>\n",
       "      <th>SBGR</th>\n",
       "      <td>3570</td>\n",
       "      <td>11.608683</td>\n",
       "    </tr>\n",
       "    <tr>\n",
       "      <th>SAEZ</th>\n",
       "      <td>3240</td>\n",
       "      <td>11.472531</td>\n",
       "    </tr>\n",
       "    <tr>\n",
       "      <th>SCJO</th>\n",
       "      <td>259</td>\n",
       "      <td>10.444015</td>\n",
       "    </tr>\n",
       "    <tr>\n",
       "      <th>SUMU</th>\n",
       "      <td>1066</td>\n",
       "      <td>10.400563</td>\n",
       "    </tr>\n",
       "    <tr>\n",
       "      <th>SEGU</th>\n",
       "      <td>423</td>\n",
       "      <td>10.063830</td>\n",
       "    </tr>\n",
       "    <tr>\n",
       "      <th>LEMD</th>\n",
       "      <td>894</td>\n",
       "      <td>9.463087</td>\n",
       "    </tr>\n",
       "    <tr>\n",
       "      <th>SCCI</th>\n",
       "      <td>2105</td>\n",
       "      <td>9.101663</td>\n",
       "    </tr>\n",
       "    <tr>\n",
       "      <th>KMIA</th>\n",
       "      <td>1015</td>\n",
       "      <td>9.050246</td>\n",
       "    </tr>\n",
       "    <tr>\n",
       "      <th>SCBA</th>\n",
       "      <td>843</td>\n",
       "      <td>8.972716</td>\n",
       "    </tr>\n",
       "    <tr>\n",
       "      <th>SCTE</th>\n",
       "      <td>4357</td>\n",
       "      <td>8.868028</td>\n",
       "    </tr>\n",
       "    <tr>\n",
       "      <th>SLLP</th>\n",
       "      <td>209</td>\n",
       "      <td>8.741627</td>\n",
       "    </tr>\n",
       "    <tr>\n",
       "      <th>SCDA</th>\n",
       "      <td>3747</td>\n",
       "      <td>8.625567</td>\n",
       "    </tr>\n",
       "    <tr>\n",
       "      <th>SCIE</th>\n",
       "      <td>3995</td>\n",
       "      <td>8.392240</td>\n",
       "    </tr>\n",
       "    <tr>\n",
       "      <th>SCSE</th>\n",
       "      <td>2410</td>\n",
       "      <td>8.144813</td>\n",
       "    </tr>\n",
       "    <tr>\n",
       "      <th>SCQP</th>\n",
       "      <td>2583</td>\n",
       "      <td>8.106078</td>\n",
       "    </tr>\n",
       "    <tr>\n",
       "      <th>SAZN</th>\n",
       "      <td>37</td>\n",
       "      <td>8.000000</td>\n",
       "    </tr>\n",
       "    <tr>\n",
       "      <th>SCVD</th>\n",
       "      <td>753</td>\n",
       "      <td>7.982736</td>\n",
       "    </tr>\n",
       "    <tr>\n",
       "      <th>SBFL</th>\n",
       "      <td>162</td>\n",
       "      <td>7.703704</td>\n",
       "    </tr>\n",
       "    <tr>\n",
       "      <th>EGLL</th>\n",
       "      <td>205</td>\n",
       "      <td>7.560976</td>\n",
       "    </tr>\n",
       "    <tr>\n",
       "      <th>MMUN</th>\n",
       "      <td>63</td>\n",
       "      <td>7.365079</td>\n",
       "    </tr>\n",
       "    <tr>\n",
       "      <th>SCAT</th>\n",
       "      <td>1780</td>\n",
       "      <td>7.154494</td>\n",
       "    </tr>\n",
       "    <tr>\n",
       "      <th>SCAR</th>\n",
       "      <td>2436</td>\n",
       "      <td>7.143678</td>\n",
       "    </tr>\n",
       "    <tr>\n",
       "      <th>SCFA</th>\n",
       "      <td>5787</td>\n",
       "      <td>7.023155</td>\n",
       "    </tr>\n",
       "    <tr>\n",
       "      <th>SCPQ</th>\n",
       "      <td>235</td>\n",
       "      <td>6.212766</td>\n",
       "    </tr>\n",
       "    <tr>\n",
       "      <th>SCCF</th>\n",
       "      <td>5145</td>\n",
       "      <td>5.970262</td>\n",
       "    </tr>\n",
       "    <tr>\n",
       "      <th>LIRF</th>\n",
       "      <td>259</td>\n",
       "      <td>5.293436</td>\n",
       "    </tr>\n",
       "    <tr>\n",
       "      <th>SCNT</th>\n",
       "      <td>79</td>\n",
       "      <td>4.518987</td>\n",
       "    </tr>\n",
       "    <tr>\n",
       "      <th>MMMX</th>\n",
       "      <td>700</td>\n",
       "      <td>3.175714</td>\n",
       "    </tr>\n",
       "    <tr>\n",
       "      <th>LFPG</th>\n",
       "      <td>359</td>\n",
       "      <td>1.660167</td>\n",
       "    </tr>\n",
       "    <tr>\n",
       "      <th>MPTO</th>\n",
       "      <td>1850</td>\n",
       "      <td>0.214054</td>\n",
       "    </tr>\n",
       "    <tr>\n",
       "      <th>KATL</th>\n",
       "      <td>358</td>\n",
       "      <td>0.114525</td>\n",
       "    </tr>\n",
       "    <tr>\n",
       "      <th>KDFW</th>\n",
       "      <td>357</td>\n",
       "      <td>-1.081232</td>\n",
       "    </tr>\n",
       "    <tr>\n",
       "      <th>KIAH</th>\n",
       "      <td>335</td>\n",
       "      <td>-1.856716</td>\n",
       "    </tr>\n",
       "  </tbody>\n",
       "</table>\n",
       "</div>"
      ],
      "text/plain": [
       "       count       mean\n",
       "Des-I                  \n",
       "YSSY     195  26.835897\n",
       "YMML      38  19.631579\n",
       "SAAR     136  19.022059\n",
       "NZAA     361  18.246537\n",
       "CYYZ     283  15.766784\n",
       "SAME    1625  15.512615\n",
       "SANT      38  14.263158\n",
       "SANU      35  14.142857\n",
       "SBGL    1434  14.135983\n",
       "MDPC      54  14.092593\n",
       "SLVR     120  14.066667\n",
       "SACO    1023  13.811339\n",
       "KLAX     155  13.264516\n",
       "SGAS     232  12.969828\n",
       "KMCO      34  12.852941\n",
       "KJFK     383  12.456919\n",
       "SKBO    1604  12.239401\n",
       "SABE    3094  11.890110\n",
       "SPJC    5270  11.736243\n",
       "SCIP     452  11.617257\n",
       "SBGR    3570  11.608683\n",
       "SAEZ    3240  11.472531\n",
       "SCJO     259  10.444015\n",
       "SUMU    1066  10.400563\n",
       "SEGU     423  10.063830\n",
       "LEMD     894   9.463087\n",
       "SCCI    2105   9.101663\n",
       "KMIA    1015   9.050246\n",
       "SCBA     843   8.972716\n",
       "SCTE    4357   8.868028\n",
       "SLLP     209   8.741627\n",
       "SCDA    3747   8.625567\n",
       "SCIE    3995   8.392240\n",
       "SCSE    2410   8.144813\n",
       "SCQP    2583   8.106078\n",
       "SAZN      37   8.000000\n",
       "SCVD     753   7.982736\n",
       "SBFL     162   7.703704\n",
       "EGLL     205   7.560976\n",
       "MMUN      63   7.365079\n",
       "SCAT    1780   7.154494\n",
       "SCAR    2436   7.143678\n",
       "SCFA    5787   7.023155\n",
       "SCPQ     235   6.212766\n",
       "SCCF    5145   5.970262\n",
       "LIRF     259   5.293436\n",
       "SCNT      79   4.518987\n",
       "MMMX     700   3.175714\n",
       "LFPG     359   1.660167\n",
       "MPTO    1850   0.214054\n",
       "KATL     358   0.114525\n",
       "KDFW     357  -1.081232\n",
       "KIAH     335  -1.856716"
      ]
     },
     "execution_count": 53,
     "metadata": {},
     "output_type": "execute_result"
    }
   ],
   "source": [
    "tbl1[tbl1[\"count\"]>10]"
   ]
  },
  {
   "cell_type": "markdown",
   "id": "72407fc4",
   "metadata": {},
   "source": [
    "I create a new variable called ```chg_des```, that is going to tell us when the flight changed the destination given the ```Des-I``` and ```Des-O```, and we can notice that the flights that change the destination have more delay, but we can not use this variable on the models because this is not a information that we have apriori in order to do a forecast."
   ]
  },
  {
   "cell_type": "code",
   "execution_count": 54,
   "id": "fe415a84",
   "metadata": {},
   "outputs": [],
   "source": [
    "scl_flt[\"chg_des\"]=scl_flt.apply(lambda x: x[\"Des-I\"]!=x[\"Des-O\"],axis=1)*1"
   ]
  },
  {
   "cell_type": "code",
   "execution_count": 55,
   "id": "fe7c9131",
   "metadata": {
    "scrolled": false
   },
   "outputs": [
    {
     "data": {
      "image/png": "[encoded data removed]",
      "text/plain": [
       "<Figure size 432x288 with 1 Axes>"
      ]
     },
     "metadata": {
      "needs_background": "light"
     },
     "output_type": "display_data"
    }
   ],
   "source": [
    "ax = sns.boxplot(x=\"chg_des\", y=\"dif_min\", data=scl_flt, showfliers = False)\n",
    "ax.tick_params(axis='x', rotation=90)"
   ]
  },
  {
   "cell_type": "markdown",
   "id": "e7fe949a",
   "metadata": {},
   "source": [
    "I also created a similar variable to the ```atraso_15```, but in this case I am going to add another value when the flight gets delayed more than 45 minutes."
   ]
  },
  {
   "cell_type": "code",
   "execution_count": 56,
   "id": "cabbdaeb",
   "metadata": {},
   "outputs": [],
   "source": [
    "scl_flt[\"log1\"]=(scl_flt[\"dif_min\"]<=15)*1"
   ]
  },
  {
   "cell_type": "code",
   "execution_count": 57,
   "id": "b4c3fb0c",
   "metadata": {},
   "outputs": [],
   "source": [
    "scl_flt[\"log2\"]=((scl_flt[\"dif_min\"]>15)&(scl_flt[\"dif_min\"]<=45))*2"
   ]
  },
  {
   "cell_type": "code",
   "execution_count": 58,
   "id": "13b024c6",
   "metadata": {},
   "outputs": [],
   "source": [
    "scl_flt[\"log3\"]=(scl_flt[\"dif_min\"]>45)*3"
   ]
  },
  {
   "cell_type": "code",
   "execution_count": 59,
   "id": "3a00abc1",
   "metadata": {},
   "outputs": [],
   "source": [
    "scl_flt[\"log_atra\"] = scl_flt[\"log1\"]+scl_flt[\"log2\"]+scl_flt[\"log3\"]"
   ]
  },
  {
   "cell_type": "code",
   "execution_count": 60,
   "id": "a8782351",
   "metadata": {},
   "outputs": [],
   "source": [
    "scl_flt.drop('log1', inplace=True, axis=1)\n",
    "scl_flt.drop('log2', inplace=True, axis=1)\n",
    "scl_flt.drop('log3', inplace=True, axis=1)"
   ]
  },
  {
   "cell_type": "markdown",
   "id": "9be93304",
   "metadata": {},
   "source": [
    "Now we can see the plots of the probability function, and the data is not following a normal distribution, and this has a reason and it is basically because we are not going to have flights that depart earlier in the same proportion that the flights that get delayed.\n",
    "\n",
    "Also we can check that in the Q-Q plot where our data does not follow the red line.\n",
    "\n",
    "Also we have the Cumulative distribution function that as we expect is going to have a high slope. This is linked with the percentile 90, so as we can see here the value of 25 has almost a CDF above 85%.\n"
   ]
  },
  {
   "cell_type": "code",
   "execution_count": 61,
   "id": "2b6abaa0",
   "metadata": {},
   "outputs": [
    {
     "data": {
      "text/plain": [
       "<AxesSubplot:xlabel='dif_min', ylabel='Probability'>"
      ]
     },
     "execution_count": 61,
     "metadata": {},
     "output_type": "execute_result"
    },
    {
     "data": {
      "image/png": "[encoded data removed]",
      "text/plain": [
       "<Figure size 504x360 with 1 Axes>"
      ]
     },
     "metadata": {
      "needs_background": "light"
     },
     "output_type": "display_data"
    }
   ],
   "source": [
    "f, ax = plt.subplots(figsize=(7, 5))\n",
    "sns.despine(f)\n",
    "\n",
    "sns.histplot(scl_flt[scl_flt[\"dif_min\"]<100],x=\"dif_min\" , stat=\"probability\")"
   ]
  },
  {
   "cell_type": "code",
   "execution_count": 62,
   "id": "b8c34321",
   "metadata": {
    "scrolled": false
   },
   "outputs": [
    {
     "data": {
      "text/plain": [
       "<AxesSubplot:xlabel='dif_min', ylabel='Probability'>"
      ]
     },
     "execution_count": 62,
     "metadata": {},
     "output_type": "execute_result"
    },
    {
     "data": {
      "image/png": "[encoded data removed]",
      "text/plain": [
       "<Figure size 504x360 with 1 Axes>"
      ]
     },
     "metadata": {
      "needs_background": "light"
     },
     "output_type": "display_data"
    }
   ],
   "source": [
    "f, ax = plt.subplots(figsize=(7, 5))\n",
    "sns.despine(f)\n",
    "\n",
    "sns.histplot(scl_flt[scl_flt[\"dif_min\"]<100],x=\"dif_min\" ,hue=\"TIPOVUELO\", stat=\"probability\")"
   ]
  },
  {
   "cell_type": "markdown",
   "id": "cb3a24b5",
   "metadata": {},
   "source": [
    "Boxplots para relacionar data"
   ]
  },
  {
   "cell_type": "code",
   "execution_count": 63,
   "id": "7513a537",
   "metadata": {},
   "outputs": [
    {
     "data": {
      "image/png": "[encoded data removed]",
      "text/plain": [
       "<Figure size 432x288 with 1 Axes>"
      ]
     },
     "metadata": {
      "needs_background": "light"
     },
     "output_type": "display_data"
    }
   ],
   "source": [
    "rvs = stats.norm(loc=0, scale=1)\n",
    "normal_sample = rvs.rvs(size=1000)\n",
    "stats.probplot(scl_flt[\"dif_min\"], dist=\"norm\", plot=plt)\n",
    "plt.show()"
   ]
  },
  {
   "cell_type": "code",
   "execution_count": 64,
   "id": "75caa2a8",
   "metadata": {
    "scrolled": true
   },
   "outputs": [
    {
     "data": {
      "image/png": "[encoded data removed]",
      "text/plain": [
       "<Figure size 720x288 with 2 Axes>"
      ]
     },
     "metadata": {
      "needs_background": "light"
     },
     "output_type": "display_data"
    }
   ],
   "source": [
    "\n",
    "fig, axs = plt.subplots(nrows=1, ncols=2, figsize=(10, 4))\n",
    "\n",
    "# Histograma\n",
    "axs[0].hist(x=scl_flt[\"dif_min\"], bins=30, color=\"#3182bd\", alpha=0.5)\n",
    "axs[0].plot(scl_flt[\"dif_min\"], np.full_like(scl_flt[\"dif_min\"], -0.01), '|k', markeredgewidth=1)\n",
    "axs[0].set_title('Distribución de los minutos de retraso')\n",
    "axs[0].set_xlabel('Minutos')\n",
    "axs[0].set_ylabel('counts')\n",
    "\n",
    "ecdf = ECDF(x=scl_flt[\"dif_min\"])\n",
    "axs[1].plot(ecdf.x, ecdf.y, color=\"#3182bd\")\n",
    "axs[1].set_title('Función de probabilidad acumulada')\n",
    "axs[1].set_xlabel('Minutos')\n",
    "axs[1].set_ylabel('CDF')\n",
    "\n",
    "plt.tight_layout();"
   ]
  },
  {
   "cell_type": "code",
   "execution_count": 65,
   "id": "9d33ae94",
   "metadata": {},
   "outputs": [],
   "source": [
    "def plot_distribucion(x, nombre_distribucion, ax=None):\n",
    "    distribucion = getattr(stats, nombre_distribucion)\n",
    "\n",
    "    parametros = distribucion.fit(data=x)\n",
    "\n",
    "    nombre_parametros = [p for p in inspect.signature(distribucion._pdf).parameters \\\n",
    "                         if not p=='x'] + [\"loc\",\"scale\"]\n",
    "    parametros_dict = dict(zip(nombre_parametros, parametros))\n",
    "\n",
    "    log_likelihood = distribucion.logpdf(x, *parametros).sum()\n",
    "\n",
    "    aic = -2 * log_likelihood + 2 * len(parametros)\n",
    "    bic = -2 * log_likelihood + np.log(x.shape[0]) * len(parametros)\n",
    "\n",
    "    x_hat = np.linspace(min(x), max(x), num=100)\n",
    "    y_hat = distribucion.pdf(x_hat, *parametros)\n",
    "    \n",
    "    if ax is None:\n",
    "        fig, ax = plt.subplots(figsize=(7,4))\n",
    "        \n",
    "    ax.plot(x_hat, y_hat, linewidth=2, label=distribucion.name)\n",
    "    ax.hist(x=x, density=True, bins=30, color=\"#3182bd\", alpha=0.5);\n",
    "    ax.plot(x, np.full_like(x, -0.01), '|k', markeredgewidth=1)\n",
    "    ax.set_title('Ajuste distribución')\n",
    "    ax.set_xlabel('x')\n",
    "    ax.set_ylabel('Densidad de probabilidad')\n",
    "    ax.legend();\n",
    "\n",
    "    print(f\"Distribución:   {distribucion.name}\")\n",
    "    print(f\"Dominio:        {[distribucion.a, distribucion.b]}\")\n",
    "    print(f\"Parámetros:     {parametros_dict}\")\n",
    "    print(f\"Log likelihood: {log_likelihood}\")\n",
    "    print(f\"AIC:            {aic}\")\n",
    "    print(f\"BIC:            {bic}\")\n",
    "    \n",
    "    return ax\n",
    "# https://www.cienciadedatos.net/documentos/pystats01-ajuste-distribuciones-python.html"
   ]
  },
  {
   "cell_type": "markdown",
   "id": "c30b21f7",
   "metadata": {},
   "source": [
    "After different tests to check which one is the best distribution that can fit our data, the gamma and the dgamma were the ones that had the best AIC and BIC.\n",
    "\n",
    "We can use this distribution to modelate future behaviors of the data."
   ]
  },
  {
   "cell_type": "code",
   "execution_count": 66,
   "id": "929fde53",
   "metadata": {
    "scrolled": false
   },
   "outputs": [
    {
     "name": "stdout",
     "output_type": "stream",
     "text": [
      "Distribución:   dgamma\n",
      "Dominio:        [-inf, inf]\n",
      "Parámetros:     {'a': 0.7369871932190541, 'loc': 2.999999999999999, 'scale': 13.594652488135754}\n",
      "Log likelihood: -245144.3793018503\n",
      "AIC:            490294.7586037006\n",
      "BIC:            490322.1494671501\n"
     ]
    },
    {
     "data": {
      "image/png": "[encoded data removed]",
      "text/plain": [
       "<Figure size 576x360 with 1 Axes>"
      ]
     },
     "metadata": {
      "needs_background": "light"
     },
     "output_type": "display_data"
    }
   ],
   "source": [
    "fig, ax = plt.subplots(figsize=(8,5))\n",
    "plot_distribucion(\n",
    "    x=scl_flt[\"dif_min\"].to_numpy(),\n",
    "    nombre_distribucion='dgamma',\n",
    "    ax=ax\n",
    ");"
   ]
  },
  {
   "cell_type": "markdown",
   "id": "10106c3d",
   "metadata": {},
   "source": [
    "## Model of Regression"
   ]
  },
  {
   "cell_type": "markdown",
   "id": "cbfdda8b",
   "metadata": {},
   "source": [
    "Finally in order to run some regression we are going to use the next variables   ```OPERA```\n",
    " ```TIPOVUELO```\n",
    " ```temporada_alta```\n",
    " ```periodo_dia```\n",
    " ```MES```.\n",
    " This variable shows that it can influence the model to obtain a good model, given the differentiation that is given to us in the analysis. We are going to perform different models to the regression and also check the logistic regressions for the variables ```atraso_15``` and ```log_atra```\n",
    "\n"
   ]
  },
  {
   "cell_type": "code",
   "execution_count": 67,
   "id": "ab0cdc56",
   "metadata": {},
   "outputs": [],
   "source": [
    "X1 = scl_flt[['OPERA','TIPOVUELO','temporada_alta','periodo_dia','MES']]\n",
    "Y1 = scl_flt['dif_min']"
   ]
  },
  {
   "cell_type": "markdown",
   "id": "71913713",
   "metadata": {},
   "source": [
    "As we can see our variables are categorical, but we want to perform regression, so we are going to transform the data into dummies that basically are going to give us a new column per each unique value on the categorical variable.\n",
    "\n",
    "This is the second reason it is not a good idea to use the Destination because we are going to have more than 600 new columns in a sparse Dataframe."
   ]
  },
  {
   "cell_type": "code",
   "execution_count": 68,
   "id": "d0d79c34",
   "metadata": {},
   "outputs": [],
   "source": [
    "X = pd.get_dummies(data=X1, drop_first=True)"
   ]
  },
  {
   "cell_type": "markdown",
   "id": "e5ac1765",
   "metadata": {},
   "source": [
    "The metrics to compare the performance and the accuracy of the model are the simple difference between the actual value and the predicted [error], and also the mean squared error.\n",
    "The simple error can give us a measure of dispersion, that is the standard deviation. In this case, less dispersion and less MSE is going to be better.\n",
    "\n",
    "First of all we separate the values of train and test.\n",
    "\n",
    "And the model is a linear regression with the variables transformed.\n"
   ]
  },
  {
   "cell_type": "markdown",
   "id": "5a38e665",
   "metadata": {},
   "source": [
    "### Linear Regression"
   ]
  },
  {
   "cell_type": "code",
   "execution_count": 69,
   "id": "302989b1",
   "metadata": {},
   "outputs": [],
   "source": [
    "X_train, X_test, Y_train, Y_test = train_test_split(X, Y1, test_size = .20, random_state = 40)\n",
    "\n",
    "regr = linear_model.LinearRegression()\n",
    "regr.fit(X_train, Y_train)\n",
    "predicted = regr.predict(X_test)"
   ]
  },
  {
   "cell_type": "code",
   "execution_count": 70,
   "id": "87d9d552",
   "metadata": {},
   "outputs": [],
   "source": [
    "filename = 'regression.sav'\n",
    "pickle.dump(regr, open(filename, 'wb'))"
   ]
  },
  {
   "cell_type": "code",
   "execution_count": 71,
   "id": "5af46b73",
   "metadata": {},
   "outputs": [],
   "source": [
    "error = Y_test-predicted"
   ]
  },
  {
   "cell_type": "code",
   "execution_count": 72,
   "id": "1cf51955",
   "metadata": {},
   "outputs": [
    {
     "data": {
      "text/plain": [
       "348.5556767635866"
      ]
     },
     "execution_count": 72,
     "metadata": {},
     "output_type": "execute_result"
    }
   ],
   "source": [
    "mean_squared_error(Y_test, predicted)"
   ]
  },
  {
   "cell_type": "code",
   "execution_count": 73,
   "id": "b4b2e17b",
   "metadata": {},
   "outputs": [
    {
     "data": {
      "text/plain": [
       "count    13642.000000\n",
       "mean        -0.044268\n",
       "std         18.670278\n",
       "min        -42.370106\n",
       "25%         -9.230976\n",
       "50%         -4.681033\n",
       "75%          2.635166\n",
       "max        160.905214\n",
       "Name: dif_min, dtype: float64"
      ]
     },
     "execution_count": 73,
     "metadata": {},
     "output_type": "execute_result"
    }
   ],
   "source": [
    "error.describe()"
   ]
  },
  {
   "cell_type": "code",
   "execution_count": 74,
   "id": "75ed89ef",
   "metadata": {
    "scrolled": true
   },
   "outputs": [
    {
     "data": {
      "text/plain": [
       "<AxesSubplot:ylabel='Count'>"
      ]
     },
     "execution_count": 74,
     "metadata": {},
     "output_type": "execute_result"
    },
    {
     "data": {
      "image/png": "[encoded data removed]",
      "text/plain": [
       "<Figure size 432x288 with 1 Axes>"
      ]
     },
     "metadata": {
      "needs_background": "light"
     },
     "output_type": "display_data"
    }
   ],
   "source": [
    "sns.histplot(predicted)"
   ]
  },
  {
   "cell_type": "markdown",
   "id": "ed602422",
   "metadata": {},
   "source": [
    "### Ridge Regression"
   ]
  },
  {
   "cell_type": "code",
   "execution_count": 75,
   "id": "e4f4ae13",
   "metadata": {},
   "outputs": [],
   "source": [
    "X2 = scl_flt[['OPERA','TIPOVUELO','temporada_alta','periodo_dia','MES']]\n",
    "X = pd.get_dummies(data=X2, drop_first=True)\n",
    "Y = scl_flt['dif_min']"
   ]
  },
  {
   "cell_type": "code",
   "execution_count": 76,
   "id": "7b459443",
   "metadata": {},
   "outputs": [],
   "source": [
    "X_train, X_test, Y_train, Y_test = train_test_split(X, Y, test_size = .20, random_state = 40)\n",
    "regr = linear_model.Ridge()\n",
    "regr.fit(X_train, Y_train)\n",
    "predicted = regr.predict(X_test)"
   ]
  },
  {
   "cell_type": "code",
   "execution_count": 77,
   "id": "80c70dce",
   "metadata": {},
   "outputs": [],
   "source": [
    "error = Y_test-predicted"
   ]
  },
  {
   "cell_type": "code",
   "execution_count": 78,
   "id": "62653986",
   "metadata": {},
   "outputs": [
    {
     "data": {
      "text/plain": [
       "348.54528315754465"
      ]
     },
     "execution_count": 78,
     "metadata": {},
     "output_type": "execute_result"
    }
   ],
   "source": [
    "mean_squared_error(Y_test, predicted)"
   ]
  },
  {
   "cell_type": "code",
   "execution_count": 79,
   "id": "1b6a9972",
   "metadata": {},
   "outputs": [
    {
     "data": {
      "text/plain": [
       "count    13642.000000\n",
       "mean        -0.044558\n",
       "std         18.669999\n",
       "min        -41.923286\n",
       "25%         -9.232036\n",
       "50%         -4.687442\n",
       "75%          2.637325\n",
       "max        160.886800\n",
       "Name: dif_min, dtype: float64"
      ]
     },
     "execution_count": 79,
     "metadata": {},
     "output_type": "execute_result"
    }
   ],
   "source": [
    "error.describe()"
   ]
  },
  {
   "cell_type": "code",
   "execution_count": 80,
   "id": "2a5125cf",
   "metadata": {},
   "outputs": [
    {
     "data": {
      "text/plain": [
       "<AxesSubplot:ylabel='Count'>"
      ]
     },
     "execution_count": 80,
     "metadata": {},
     "output_type": "execute_result"
    },
    {
     "data": {
      "image/png": "[encoded data removed]",
      "text/plain": [
       "<Figure size 432x288 with 1 Axes>"
      ]
     },
     "metadata": {
      "needs_background": "light"
     },
     "output_type": "display_data"
    }
   ],
   "source": [
    "sns.histplot(predicted)"
   ]
  },
  {
   "cell_type": "markdown",
   "id": "b454a6f7",
   "metadata": {},
   "source": [
    "### Gamma Regressor"
   ]
  },
  {
   "cell_type": "code",
   "execution_count": 81,
   "id": "d9400291",
   "metadata": {},
   "outputs": [],
   "source": [
    "gammadf = scl_flt[scl_flt[\"dif_min\"]>0]\n",
    "\n",
    "X3 = gammadf[['OPERA','TIPOVUELO','temporada_alta','periodo_dia','MES',\"chg_des\"]]\n",
    "X = pd.get_dummies(data=X3, drop_first=True)\n",
    "Y3 = gammadf['dif_min']\n",
    "X_train, X_test, Y_train, Y_test = train_test_split(X, Y3, test_size = .20, random_state = 40)\n"
   ]
  },
  {
   "cell_type": "code",
   "execution_count": 82,
   "id": "243ba08e",
   "metadata": {},
   "outputs": [],
   "source": [
    "clf = linear_model.GammaRegressor()\n",
    "clf.fit(X, Y3)\n",
    "predicted = clf.predict(X_test)"
   ]
  },
  {
   "cell_type": "code",
   "execution_count": 83,
   "id": "804f75f6",
   "metadata": {},
   "outputs": [
    {
     "data": {
      "text/plain": [
       "440.1094659219771"
      ]
     },
     "execution_count": 83,
     "metadata": {},
     "output_type": "execute_result"
    }
   ],
   "source": [
    "mean_squared_error(Y_test, predicted)"
   ]
  },
  {
   "cell_type": "code",
   "execution_count": 84,
   "id": "44f6cce0",
   "metadata": {},
   "outputs": [],
   "source": [
    "error = Y_test-predicted"
   ]
  },
  {
   "cell_type": "code",
   "execution_count": 85,
   "id": "1ba996d8",
   "metadata": {},
   "outputs": [
    {
     "data": {
      "text/plain": [
       "count    9102.000000\n",
       "mean        0.328060\n",
       "std        20.680656\n",
       "min       -17.000000\n",
       "25%       -11.000000\n",
       "50%        -6.000000\n",
       "75%         1.000000\n",
       "max       146.000000\n",
       "Name: dif_min, dtype: float64"
      ]
     },
     "execution_count": 85,
     "metadata": {},
     "output_type": "execute_result"
    }
   ],
   "source": [
    "error.astype(int).describe()"
   ]
  },
  {
   "cell_type": "code",
   "execution_count": 86,
   "id": "7dbf9d84",
   "metadata": {},
   "outputs": [
    {
     "data": {
      "text/plain": [
       "<AxesSubplot:xlabel='dif_min', ylabel='Count'>"
      ]
     },
     "execution_count": 86,
     "metadata": {},
     "output_type": "execute_result"
    },
    {
     "data": {
      "image/png": "[encoded data removed]",
      "text/plain": [
       "<Figure size 432x288 with 1 Axes>"
      ]
     },
     "metadata": {
      "needs_background": "light"
     },
     "output_type": "display_data"
    }
   ],
   "source": [
    "sns.histplot(error)"
   ]
  },
  {
   "cell_type": "markdown",
   "id": "8b3e29ef",
   "metadata": {},
   "source": [
    "\n",
    "The performance of the linear and the ridge regression were pretty similar, and testing others models such as the bayesian these ones have the best performance overall, as I said before it is important that the dispersion metric of the error is not so big, and actually is similar to the dispersion of the original data.\n",
    "\n",
    "At the end I tried to use a gamma distribution because the data have this behavior but the result was not satisfying at all. Maybe we can try to delete some outliers in order to have better accuracy.\n",
    "\n",
    "Maybe for further analysis and models we can include other variables that the airport has of departure and destination available such as the weather, the id of the plane, the spot on the airport, flights that came before, in order to link the delays of the day.\n",
    "\n"
   ]
  },
  {
   "cell_type": "markdown",
   "id": "c419b1c7",
   "metadata": {},
   "source": [
    "| **Metrics**     | **Linear Regression** | **Ridge Regression** | **Gamma Regression** |\n",
    "|-----------------|-----------------------|----------------------|----------------------|\n",
    "| **MSE**         | 348.55                | 348.54               | 440                  |\n",
    "| **Mean[Error]** | -0.04                 | -0.04                | 0.3                  |\n",
    "| **STD[Error]**  | 18.67                 | 18.66                | 20                   |"
   ]
  },
  {
   "cell_type": "markdown",
   "id": "c594d6ee",
   "metadata": {},
   "source": [
    "## Model of Classification"
   ]
  },
  {
   "cell_type": "markdown",
   "id": "ff36e368",
   "metadata": {},
   "source": [
    "We are going to run two different models of classification for the variable ```log_atra``` that have the values of a delay higher than 45 between 45 and 15 and less than 15. \n",
    "\n",
    "The two models are decision trees and nearest Neighbors. The accuracy in this case is easier to measure because we compare the predicted and the test data and we take the percentage of good classifications. \n",
    "\n",
    "Running the model with a cross validation of 5 folds, we can see that the accuracy in this case is around 81.% in all the folds. Checking the percentage of flights that have less than 15 minutes of delay the percentage of these flights is 81% so the model is overfitted and is only forecasting this kind of flights.\n",
    "\n",
    "We need to create a balanced dataset to train and test the model.\n"
   ]
  },
  {
   "cell_type": "code",
   "execution_count": 87,
   "id": "b7bd1851",
   "metadata": {
    "scrolled": true
   },
   "outputs": [
    {
     "data": {
      "text/plain": [
       "array([-0.05922304, -0.00356348, -0.01132184])"
      ]
     },
     "execution_count": 87,
     "metadata": {},
     "output_type": "execute_result"
    }
   ],
   "source": [
    "X1 = scl_flt[['TIPOVUELO','temporada_alta']]\n",
    "X1 = pd.get_dummies(data=X1, drop_first=True)\n",
    "Y1 = scl_flt['log_atra']\n",
    "clf1 = tree.DecisionTreeClassifier(max_leaf_nodes=5,random_state=0)\n",
    "clf1.fit(X1, Y1)\n",
    "cross_val_score(clf, X1, Y1, cv=3)"
   ]
  },
  {
   "cell_type": "code",
   "execution_count": 88,
   "id": "03ec4aa9",
   "metadata": {},
   "outputs": [
    {
     "data": {
      "text/plain": [
       "1    55592\n",
       "2     9520\n",
       "3     3094\n",
       "Name: log_atra, dtype: int64"
      ]
     },
     "execution_count": 88,
     "metadata": {},
     "output_type": "execute_result"
    }
   ],
   "source": [
    "scl_flt[\"log_atra\"].value_counts()"
   ]
  },
  {
   "cell_type": "code",
   "execution_count": 89,
   "id": "f605a4ed",
   "metadata": {},
   "outputs": [
    {
     "data": {
      "text/plain": [
       "0.8150602586282731"
      ]
     },
     "execution_count": 89,
     "metadata": {},
     "output_type": "execute_result"
    }
   ],
   "source": [
    "55592/68206"
   ]
  },
  {
   "cell_type": "markdown",
   "id": "ae6778b4",
   "metadata": {},
   "source": [
    "### Decision Tree Classifier"
   ]
  },
  {
   "cell_type": "markdown",
   "id": "fa6874ba",
   "metadata": {},
   "source": [
    "We need to create balanced data in order to have a better performance.\n",
    "\n",
    "The model works well on the balanced dataset for the decision trees. but in the moment that we use the data that come from the original dataframe, again the classification is overfitted with the flights with a delay below 15 min. \n"
   ]
  },
  {
   "cell_type": "code",
   "execution_count": 90,
   "id": "012ca8b5",
   "metadata": {
    "scrolled": true
   },
   "outputs": [],
   "source": [
    "bal = pd.concat([scl_flt[scl_flt[\"log_atra\"]==1].head(3094), scl_flt[scl_flt[\"log_atra\"]==2].head(3094),scl_flt[scl_flt[\"log_atra\"]==3]], ignore_index=True)"
   ]
  },
  {
   "cell_type": "code",
   "execution_count": 91,
   "id": "764be391",
   "metadata": {},
   "outputs": [
    {
     "data": {
      "text/plain": [
       "0.7610258295905867"
      ]
     },
     "execution_count": 91,
     "metadata": {},
     "output_type": "execute_result"
    }
   ],
   "source": [
    "X2 = bal[['OPERA','TIPOVUELO','temporada_alta','periodo_dia','MES']]\n",
    "X2 = pd.get_dummies(data=X2, drop_first=True)\n",
    "Y2 = bal['log_atra']\n",
    "clf = tree.DecisionTreeClassifier(max_leaf_nodes=10,random_state=0)\n",
    "clf.fit(X2, Y2)\n",
    "cross_val_score(clf, X2, Y2, cv=10).mean()"
   ]
  },
  {
   "cell_type": "code",
   "execution_count": 92,
   "id": "a70a4c28",
   "metadata": {},
   "outputs": [
    {
     "data": {
      "text/plain": [
       "0.8158309573863803"
      ]
     },
     "execution_count": 92,
     "metadata": {},
     "output_type": "execute_result"
    }
   ],
   "source": [
    "XK = scl_flt[['OPERA','TIPOVUELO','temporada_alta','periodo_dia','MES']]\n",
    "XK = pd.get_dummies(data=XK, drop_first=True)\n",
    "YK = scl_flt['log_atra']\n",
    "X_train, X_test, Y_train, Y_test = train_test_split(XK, YK, test_size = .20, random_state = 40)\n",
    "cross_val_score(clf, X_train, Y_train, cv=10).mean()"
   ]
  },
  {
   "cell_type": "code",
   "execution_count": 93,
   "id": "0254a35f",
   "metadata": {},
   "outputs": [],
   "source": [
    "filename = 'clf.sav'\n",
    "pickle.dump(clf, open(filename, 'wb'))"
   ]
  },
  {
   "cell_type": "code",
   "execution_count": 94,
   "id": "723295e0",
   "metadata": {},
   "outputs": [
    {
     "data": {
      "image/png": "[encoded data removed]",
      "text/plain": [
       "<Figure size 1080x1080 with 1 Axes>"
      ]
     },
     "metadata": {
      "needs_background": "light"
     },
     "output_type": "display_data"
    }
   ],
   "source": [
    "_, ax = plt.subplots(figsize=(15,15)) # Resize figure\n",
    "tree.plot_tree(clf, filled=True, ax=ax)\n",
    "plt.show()\n"
   ]
  },
  {
   "cell_type": "markdown",
   "id": "e53ce108",
   "metadata": {},
   "source": [
    "### KNN"
   ]
  },
  {
   "cell_type": "markdown",
   "id": "2003302c",
   "metadata": {},
   "source": [
    "We perform the same test with the k nearest neighbors, but the accuracy of the model doesn’t work well on the original dataset, but the model works well on the balanced data and has good performance.\n",
    "\n",
    "For the next opportunity it would be a good idea to have a more balanced dataset in order to evaluate different conditions that the data can have. \n",
    "\n",
    "Obviously even if we take 3 years off data more than 80% of the data should be from flights with a delay under 15 minutes. But we can create the same balanced dataset and we are going to be able to take more data to representante the other 2 classes.\n"
   ]
  },
  {
   "cell_type": "code",
   "execution_count": 95,
   "id": "87d7f2e9",
   "metadata": {},
   "outputs": [],
   "source": [
    "from sklearn.neighbors import KNeighborsClassifier\n",
    "XK = bal[['OPERA','TIPOVUELO','temporada_alta','periodo_dia','MES']]\n",
    "XK = pd.get_dummies(data=XK, drop_first=True)\n",
    "YK = bal['log_atra']\n",
    "\n",
    "clf = KNeighborsClassifier(n_neighbors=3) \n",
    "clf.fit(XK, YK)\n",
    "predicted = clf.predict(XK)"
   ]
  },
  {
   "cell_type": "code",
   "execution_count": 96,
   "id": "ec79a173",
   "metadata": {},
   "outputs": [
    {
     "data": {
      "text/plain": [
       "1    3094\n",
       "2    3094\n",
       "3    3094\n",
       "Name: log_atra, dtype: int64"
      ]
     },
     "execution_count": 96,
     "metadata": {},
     "output_type": "execute_result"
    }
   ],
   "source": [
    "YK.value_counts()"
   ]
  },
  {
   "cell_type": "markdown",
   "id": "be97aec2",
   "metadata": {},
   "source": [
    "This is the performance of the model with the balanced dataset"
   ]
  },
  {
   "cell_type": "code",
   "execution_count": 97,
   "id": "2fd48309",
   "metadata": {},
   "outputs": [
    {
     "data": {
      "text/plain": [
       "0.8179859989229941"
      ]
     },
     "execution_count": 97,
     "metadata": {},
     "output_type": "execute_result"
    }
   ],
   "source": [
    "XK = bal[['OPERA','TIPOVUELO','temporada_alta','periodo_dia','MES']]\n",
    "XK = pd.get_dummies(data=XK, drop_first=True)\n",
    "YK = bal['log_atra']\n",
    "X_train, X_test, Y_train, Y_test = train_test_split(XK, YK, test_size = .20, random_state = 40)\n",
    "\n",
    "clf.score(X_test,Y_test)"
   ]
  },
  {
   "cell_type": "code",
   "execution_count": 98,
   "id": "a7dd010b",
   "metadata": {},
   "outputs": [],
   "source": [
    "pred = clf.predict(X_test)"
   ]
  },
  {
   "cell_type": "code",
   "execution_count": 99,
   "id": "f3d93763",
   "metadata": {},
   "outputs": [],
   "source": [
    "pred = pd.DataFrame(pred)"
   ]
  },
  {
   "cell_type": "code",
   "execution_count": 100,
   "id": "6b860698",
   "metadata": {},
   "outputs": [
    {
     "data": {
      "text/plain": [
       "2    631\n",
       "3    620\n",
       "1    606\n",
       "Name: log_atra, dtype: int64"
      ]
     },
     "execution_count": 100,
     "metadata": {},
     "output_type": "execute_result"
    }
   ],
   "source": [
    "Y_test.value_counts()"
   ]
  },
  {
   "cell_type": "code",
   "execution_count": 101,
   "id": "d61b5bc4",
   "metadata": {},
   "outputs": [
    {
     "data": {
      "text/plain": [
       "1    810\n",
       "2    602\n",
       "3    445\n",
       "dtype: int64"
      ]
     },
     "execution_count": 101,
     "metadata": {},
     "output_type": "execute_result"
    }
   ],
   "source": [
    "pred.value_counts()"
   ]
  },
  {
   "cell_type": "markdown",
   "id": "e01af2eb",
   "metadata": {},
   "source": [
    "Performance with the complete dataset"
   ]
  },
  {
   "cell_type": "code",
   "execution_count": 102,
   "id": "deb38de7",
   "metadata": {},
   "outputs": [
    {
     "data": {
      "text/plain": [
       "0.14631285735229438"
      ]
     },
     "execution_count": 102,
     "metadata": {},
     "output_type": "execute_result"
    }
   ],
   "source": [
    "XK = scl_flt[['OPERA','TIPOVUELO','temporada_alta','periodo_dia','MES']]\n",
    "XK = pd.get_dummies(data=XK, drop_first=True)\n",
    "YK = scl_flt['log_atra']\n",
    "X_train, X_test, Y_train, Y_test = train_test_split(XK, YK, test_size = .20, random_state = 40)\n",
    "\n",
    "clf.score(X_test,Y_test)"
   ]
  },
  {
   "cell_type": "code",
   "execution_count": 103,
   "id": "e0857ec2",
   "metadata": {},
   "outputs": [],
   "source": [
    "filename = 'clfknn.sav'\n",
    "pickle.dump(clf, open(filename, 'wb'))"
   ]
  },
  {
   "cell_type": "markdown",
   "id": "d3867ce8",
   "metadata": {},
   "source": [
    "## Test"
   ]
  },
  {
   "cell_type": "code",
   "execution_count": 104,
   "id": "97b18130",
   "metadata": {},
   "outputs": [],
   "source": [
    "scl_flt.to_csv(\"data_streamlit.csv\",index=False)"
   ]
  },
  {
   "cell_type": "markdown",
   "id": "116b4aea",
   "metadata": {},
   "source": [
    "### STREAMLIT DEMO"
   ]
  },
  {
   "cell_type": "markdown",
   "id": "a17f89a0",
   "metadata": {},
   "source": [
    "In order to see the models implemented in a web application, I create a small interactive dashboard based on a streamlit framework, you only need to use this url.\n",
    "\n",
    "https://share.streamlit.io/sebasava/challenge-datascientist-sebastian-rojas/main/SL_Challenge.py\n",
    "\n",
    "OR\n",
    "\n",
    "https://share.streamlit.io/sebasava/challenge-datascientist-sebastian-rojas/develop/SL_Challenge.py\n"
   ]
  }
 ],
 "metadata": {
  "kernelspec": {
   "display_name": "Python 3 (ipykernel)",
   "language": "python",
   "name": "python3"
  },
  "language_info": {
   "codemirror_mode": {
    "name": "ipython",
    "version": 3
   },
   "file_extension": ".py",
   "mimetype": "text/x-python",
   "name": "python",
   "nbconvert_exporter": "python",
   "pygments_lexer": "ipython3",
   "version": "3.8.12"
  }
 },
 "nbformat": 4,
 "nbformat_minor": 5
}
